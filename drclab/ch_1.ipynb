{
 "cells": [
  {
   "attachments": {},
   "cell_type": "markdown",
   "metadata": {},
   "source": [
    "#### Machine learning (ML) is the field of science that deals with developing computer algorithms and models that can perform certain tasks without explicitly programming them. This is to say, it teaches the machines to “learn” rather than specifying “rules” from input data provided to them. The machine then can convert that learning into expertise or knowledge and use that for predictions. ML is an important tool for leveraging technologies around artificial intelligence (AI), a subfield of computer science that aims to perform tasks automatically that we, as humans, are naturally good at. ML is an important aspect of all modern businesses and research. \n",
    "\n",
    "#### The adoption of ML for genomics applications is changing recently because of the availability of large genomic datasets, improvement in algorithms, and, most importantly, superior computational power. More and more scientific research organizations and industries are expanding the use of ML across vast volumes of genomic data for predictive diagnostics, as well as to get biological insights at the scale of population health."
   ]
  },
  {
   "attachments": {},
   "cell_type": "markdown",
   "metadata": {},
   "source": [
    "#### This complexity and the sheer amount of data generated create roadblocks not only to the acquisition, storage, and distribution but also to genomic data analysis. The current tools used in the genomic analysis are built on top of deterministic approaches and rely on rules encoded to perform a particular task"
   ]
  },
  {
   "attachments": {},
   "cell_type": "markdown",
   "metadata": {},
   "source": [
    "![](https://learning.oreilly.com/api/v2/epubs/urn:orm:book:9781804615447/files/image/B18958_01_001.jpg)"
   ]
  },
  {
   "attachments": {},
   "cell_type": "markdown",
   "metadata": {},
   "source": [
    "#### Suppose we want to predict whether a particular sequence of DNA has a binding site for a __transcription factor (TF)__ of your interest or not. Using the traditional approach, we would use a positional weight matrix (PWF) to scan the sequence and identify the potential motifs that are overrepresented. Even though this works, this is extremely difficult, manual, scalable, and so on. Using an ML-based approach, we would give an ML model plenty of DNA sequences until the ML model learns the mathematical relationship between the features from those DNA sequences that either have or don’t have binding sites (labels) based on experimental results. It then uses this knowledge to make decisions on new data and make informed predictions. For example, we could give the ML model an unknown DNA sequence, and it would predict the correct binding site motif if present. This is one such example of why ML is a good fit for genomics problems. Some other ways in which ML can be used in genomics include identifying genetic disorders, predicting the type of cancer from genetic variants, improving disease prognosis, and so on."
   ]
  },
  {
   "attachments": {},
   "cell_type": "markdown",
   "metadata": {},
   "source": [
    "#### A transcription factor is a protein that binds to <span style=\"color:red\">DNA and regulates gene expression by promoting or suppressing transcription</span>. In molecular biology, transcription factors control the rate of transcription of genetic information from DNA to messenger RNA by binding to a specific DNA sequence¹. They are proteins possessing domains that bind to the DNA of promoter or enhancer regions of specific genes. They also possess a domain that interacts with RNA polymerase II or other transcription factors and consequently regulate the amount of messenger RNA (mRNA) produced by the gene⁴. \n",
    "\n",
    "[Here](https://en.wikipedia.org/wiki/Transcription_factor) is a link to the Wikipedia page on transcription factors for more information.\n",
    "\n",
    "Source: Conversation with Bing, 6/10/2023(1) Transcription factor - Wikipedia. https://en.wikipedia.org/wiki/Transcription_factor Accessed 6/10/2023.\n",
    "(2) Transcription Factors - an overview | ScienceDirect Topics. https://www.sciencedirect.com/topics/neuroscience/transcription-factors Accessed 6/10/2023.\n",
    "(3) Transcription factor | Definition, Effects, & Types | Britannica. https://www.britannica.com/science/transcription-factor Accessed 6/10/2023.\n",
    "(4) Transcription factors (article) | Khan Academy. https://www.khanacademy.org/science/ap-biology/gene-expression-and-regulation/regulation-of-gene-expression-and-cell-specialization/a/eukaryotic-transcription-factors Accessed 6/10/2023."
   ]
  },
  {
   "attachments": {},
   "cell_type": "markdown",
   "metadata": {},
   "source": [
    "#### One of the most important events in the field of biology was the completion of the human genome sequence in 2003, which is considered one of the significant milestones in genomics. Since then, genomics has been evolving rapidly, from research to clinical practice at scale, especially in oncology and infectious diseases. Genomics, because of its ability to identify root causes of diseases due to tiny changes in the genome, fueled the discovery of many important disease genes – particularly rare disease genes – which brought clinical decision-making one step closer to personalized medicine. "
   ]
  },
  {
   "attachments": {},
   "cell_type": "markdown",
   "metadata": {},
   "source": [
    "#### ML has shown for genomics applications such as drug __discovery, diagnostics, precision medicine, agriculture, and biological research__, more and more life science and biotech organizations are leveraging ML to analyze genomic data for population health and predictive analytics."
   ]
  },
  {
   "attachments": {},
   "cell_type": "markdown",
   "metadata": {},
   "source": [
    "#### Python libraries such as BioPython for genomic data analysis, Scikit-learn for ML building, and Keras to train our DL models. "
   ]
  },
  {
   "cell_type": "code",
   "execution_count": null,
   "metadata": {
    "vscode": {
     "languageId": "plaintext"
    }
   },
   "outputs": [],
   "source": []
  }
 ],
 "metadata": {
  "language_info": {
   "name": "python"
  },
  "orig_nbformat": 4
 },
 "nbformat": 4,
 "nbformat_minor": 2
}
