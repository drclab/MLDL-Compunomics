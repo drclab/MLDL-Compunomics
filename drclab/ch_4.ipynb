{
 "cells": [
  {
   "cell_type": "markdown",
   "metadata": {},
   "source": [
    "### Recently, there has been a rapid increase in interest in genomics-based applications in the biomedical, pharmaceutical, and therapeutics industries. Machine learning (ML), with its sophisticated mathematical and data analysis techniques, coupled with advances in next-generation sequencing (NGS) have played a huge role in this rapid rise. As most genomic companies and other research organizations started to produce genomic data to keep themselves ahead of the curve, the ability to extract novel biological insights and build predictive models from this ever-growing data has proved to be a challenge for ML because it relied on hand-crafted features for model training and predictions as we saw in the previous two chapters. Translating this massive genomic data from an incomprehensible resource into meaningful insights automatically and intuitively requires more expressive ML models and algorithms."
   ]
  }
 ],
 "metadata": {
  "kernelspec": {
   "display_name": "Python 3",
   "language": "python",
   "name": "python3"
  },
  "language_info": {
   "name": "python",
   "version": "3.10.6"
  },
  "orig_nbformat": 4
 },
 "nbformat": 4,
 "nbformat_minor": 2
}
