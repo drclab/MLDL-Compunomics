{
 "cells": [
  {
   "cell_type": "markdown",
   "metadata": {},
   "source": [
    "The field of genomics has seen massive growth in the past few years because of advancements in sequencing technologies that have pushed genomic data in the wave of big data. ML techniques, with their ability to analyze large-scale data, can turn this complex genomic data into biological insights that can in turn convert into useful products. ML algorithms have been widely used in biology and genomics to apply to complex multi-dimensional datasets for the building of predictive models to solve complex biological problems such as disorder risk prediction, mental illness prediction, diagnosis, treatment, and so on. This chapter introduces the main ML algorithms and libraries that are commonly used in genomic data analysis. By the end of the chapter, you will know what supervised and unsupervised ML methods are, understand the most common ML algorithms and libraries for genomics, and know when and how to use them. You will know how to build a predictive model using genomics data and be aware of the challenges encountered by ML algorithms for genomics and potential solutions for addressing the same."
   ]
  },
  {
   "cell_type": "markdown",
   "metadata": {},
   "source": [
    "For example, a lot of effort has been put into the generation of deep datasets such as The Cancer Genome Atlas (TCGA, 2014), the Encyclopedia of DNA Elements (ENCODE, 2012), GenBank from the National Center for Biotechnology Information (NCBI, 1988), and so on."
   ]
  },
  {
   "cell_type": "markdown",
   "metadata": {},
   "source": [
    "![](https://learning.oreilly.com/api/v2/epubs/urn:orm:book:9781804615447/files/image/B18958_03_001.jpg)"
   ]
  },
  {
   "cell_type": "markdown",
   "metadata": {},
   "source": [
    "### Thanks to rapid advancements in NGS, genomics has shown tremendous growth in the last decade, which has led to an outpouring of massive sequence data. In addition to whole-genome sequencing (WGS), other promising techniques have emerged, such as whole-exome sequencing (WES) to measure the expressed region of the genome, whole-transcriptome sequencing (WTS) or RNA-sequencing (RNA-seq) to measure mRNA expression, ChIP-sequencing (ChIP-seq) to identify transcription-factor binding sites, and Ribo-sequencing (Ribo-seq) to identify actively translating mRNAs for quantifying relative protein abundance, and so on. The challenge now is not “what to measure ” but “how to analyze the data to extract meaningful data and turn those insights into applications”. While the development of NGS technologies and the generation of massive data has provided opportunities for a new field called “bioinformatics” to grow significantly, it has also opened the door for the application of ML techniques with the goal of mining these large-scale biological genomic datasets."
   ]
  },
  {
   "cell_type": "markdown",
   "metadata": {},
   "source": [
    "![](https://learning.oreilly.com/api/v2/epubs/urn:orm:book:9781804615447/files/image/B18958_03_003.jpg)"
   ]
  },
  {
   "cell_type": "markdown",
   "metadata": {},
   "source": [
    "Feature extraction and selection\n",
    "Feature extraction and selection are considered the most important steps in ML as the performance of the model mainly depends on the features that you extract and include in the model training. Feature extraction, as the name suggests, is a process of creating features or attributes from datasets. It is the transformation of processed data into tabular data to represent a feature vector. The features can be numerical, categorical, ordinal, and so on. With feature selection, you select only relevant features that best fit the model based on statistical or hypothesis testing."
   ]
  },
  {
   "cell_type": "markdown",
   "metadata": {},
   "source": [
    "One of the popular use cases for genomics is outcome prediction. In this particular use case, we will try to predict if a patient has lung cancer or not based on gene expression. Before we start building the model and using that to make a prediction, let’s try to understand how a typical ML disease prediction model work in this use case. It works by mapping the relationships between individual patients’ sample gene expression values (features) and the target variable (Normal versus Tumor)—in other words, mapping the pattern of the features within the expression data to the target variable. In this example, we will use a supervised ML method to build a classification model from the expression data to predict the outcome. Each row of the data represents a patient sample that consists of gene expressions. We will use logistic regression to build a simple binary classification model for outcome prediction."
   ]
  },
  {
   "cell_type": "markdown",
   "metadata": {},
   "source": [
    "We will start our illustration of ML on a genomics problem using a real dataset from BARRA:CuRDa, a curated RNA-seq database for cancer research (https://sbcb.inf.ufrgs.br/barracurda). RNA-seq is one of the most important methods for inferring global gene expression levels in biological samples."
   ]
  },
  {
   "cell_type": "code",
   "execution_count": 1,
   "metadata": {},
   "outputs": [],
   "source": [
    "import pandas as pd"
   ]
  },
  {
   "cell_type": "code",
   "execution_count": 2,
   "metadata": {},
   "outputs": [],
   "source": [
    "lung1 = pd.read_csv('../Chapter03/lung/GSE87340.csv.zip')\n",
    "lung2 = pd.read_csv('../Chapter03/lung/GSE60052.csv.zip')\n",
    "lung3 = pd.read_csv('../Chapter03/lung/GSE87340.csv.zip')"
   ]
  },
  {
   "cell_type": "code",
   "execution_count": 3,
   "metadata": {},
   "outputs": [],
   "source": [
    "df_lung = pd.concat([lung1, lung2, lung3])"
   ]
  },
  {
   "cell_type": "code",
   "execution_count": 4,
   "metadata": {},
   "outputs": [
    {
     "data": {
      "text/html": [
       "<div>\n",
       "<style scoped>\n",
       "    .dataframe tbody tr th:only-of-type {\n",
       "        vertical-align: middle;\n",
       "    }\n",
       "\n",
       "    .dataframe tbody tr th {\n",
       "        vertical-align: top;\n",
       "    }\n",
       "\n",
       "    .dataframe thead th {\n",
       "        text-align: right;\n",
       "    }\n",
       "</style>\n",
       "<table border=\"1\" class=\"dataframe\">\n",
       "  <thead>\n",
       "    <tr style=\"text-align: right;\">\n",
       "      <th></th>\n",
       "      <th>ID</th>\n",
       "      <th>class</th>\n",
       "      <th>ENSG00000000003</th>\n",
       "      <th>ENSG00000000005</th>\n",
       "      <th>ENSG00000000419</th>\n",
       "      <th>ENSG00000000457</th>\n",
       "      <th>ENSG00000000460</th>\n",
       "      <th>ENSG00000000938</th>\n",
       "      <th>ENSG00000000971</th>\n",
       "      <th>ENSG00000001036</th>\n",
       "      <th>...</th>\n",
       "      <th>ENSG00000285985</th>\n",
       "      <th>ENSG00000285986</th>\n",
       "      <th>ENSG00000285987</th>\n",
       "      <th>ENSG00000285988</th>\n",
       "      <th>ENSG00000285989</th>\n",
       "      <th>ENSG00000285990</th>\n",
       "      <th>ENSG00000285991</th>\n",
       "      <th>ENSG00000285992</th>\n",
       "      <th>ENSG00000285993</th>\n",
       "      <th>ENSG00000285994</th>\n",
       "    </tr>\n",
       "  </thead>\n",
       "  <tbody>\n",
       "    <tr>\n",
       "      <th>0</th>\n",
       "      <td>SRR4296063</td>\n",
       "      <td>Normal</td>\n",
       "      <td>10.728260</td>\n",
       "      <td>4.668142</td>\n",
       "      <td>10.278195</td>\n",
       "      <td>10.184036</td>\n",
       "      <td>8.215333</td>\n",
       "      <td>11.310861</td>\n",
       "      <td>13.178872</td>\n",
       "      <td>11.469473</td>\n",
       "      <td>...</td>\n",
       "      <td>2.329988</td>\n",
       "      <td>2.329988</td>\n",
       "      <td>2.329988</td>\n",
       "      <td>2.329988</td>\n",
       "      <td>2.329988</td>\n",
       "      <td>2.329988</td>\n",
       "      <td>4.877783</td>\n",
       "      <td>2.329988</td>\n",
       "      <td>2.916440</td>\n",
       "      <td>3.332160</td>\n",
       "    </tr>\n",
       "    <tr>\n",
       "      <th>1</th>\n",
       "      <td>SRR4296064</td>\n",
       "      <td>Tumor</td>\n",
       "      <td>11.332606</td>\n",
       "      <td>2.329988</td>\n",
       "      <td>10.127734</td>\n",
       "      <td>10.167900</td>\n",
       "      <td>8.174060</td>\n",
       "      <td>10.399611</td>\n",
       "      <td>13.208972</td>\n",
       "      <td>11.510862</td>\n",
       "      <td>...</td>\n",
       "      <td>2.329988</td>\n",
       "      <td>2.329988</td>\n",
       "      <td>2.931826</td>\n",
       "      <td>2.329988</td>\n",
       "      <td>2.329988</td>\n",
       "      <td>3.375017</td>\n",
       "      <td>4.644066</td>\n",
       "      <td>2.329988</td>\n",
       "      <td>2.329988</td>\n",
       "      <td>3.509185</td>\n",
       "    </tr>\n",
       "    <tr>\n",
       "      <th>2</th>\n",
       "      <td>SRR4296065</td>\n",
       "      <td>Normal</td>\n",
       "      <td>9.951182</td>\n",
       "      <td>4.264426</td>\n",
       "      <td>10.288874</td>\n",
       "      <td>10.093258</td>\n",
       "      <td>8.011385</td>\n",
       "      <td>11.814572</td>\n",
       "      <td>14.038661</td>\n",
       "      <td>11.651766</td>\n",
       "      <td>...</td>\n",
       "      <td>2.329988</td>\n",
       "      <td>2.329988</td>\n",
       "      <td>2.931948</td>\n",
       "      <td>2.329988</td>\n",
       "      <td>2.329988</td>\n",
       "      <td>2.329988</td>\n",
       "      <td>5.169625</td>\n",
       "      <td>2.932519</td>\n",
       "      <td>2.329988</td>\n",
       "      <td>3.640437</td>\n",
       "    </tr>\n",
       "    <tr>\n",
       "      <th>3</th>\n",
       "      <td>SRR4296066</td>\n",
       "      <td>Tumor</td>\n",
       "      <td>12.185680</td>\n",
       "      <td>2.798643</td>\n",
       "      <td>10.178582</td>\n",
       "      <td>10.401606</td>\n",
       "      <td>8.902321</td>\n",
       "      <td>10.294009</td>\n",
       "      <td>13.170466</td>\n",
       "      <td>11.546855</td>\n",
       "      <td>...</td>\n",
       "      <td>2.329988</td>\n",
       "      <td>2.329988</td>\n",
       "      <td>3.397771</td>\n",
       "      <td>2.329988</td>\n",
       "      <td>2.329988</td>\n",
       "      <td>2.874488</td>\n",
       "      <td>4.548259</td>\n",
       "      <td>2.329988</td>\n",
       "      <td>2.329988</td>\n",
       "      <td>3.720906</td>\n",
       "    </tr>\n",
       "    <tr>\n",
       "      <th>4</th>\n",
       "      <td>SRR4296067</td>\n",
       "      <td>Normal</td>\n",
       "      <td>9.875179</td>\n",
       "      <td>2.922071</td>\n",
       "      <td>10.444479</td>\n",
       "      <td>10.435843</td>\n",
       "      <td>8.692961</td>\n",
       "      <td>12.604934</td>\n",
       "      <td>13.538341</td>\n",
       "      <td>11.733252</td>\n",
       "      <td>...</td>\n",
       "      <td>2.329988</td>\n",
       "      <td>2.329988</td>\n",
       "      <td>2.329988</td>\n",
       "      <td>2.329988</td>\n",
       "      <td>2.329988</td>\n",
       "      <td>2.329988</td>\n",
       "      <td>4.055185</td>\n",
       "      <td>2.329988</td>\n",
       "      <td>3.015702</td>\n",
       "      <td>4.348411</td>\n",
       "    </tr>\n",
       "  </tbody>\n",
       "</table>\n",
       "<p>5 rows × 58737 columns</p>\n",
       "</div>"
      ],
      "text/plain": [
       "           ID    class  ENSG00000000003  ENSG00000000005  ENSG00000000419  \\\n",
       "0  SRR4296063   Normal        10.728260         4.668142        10.278195   \n",
       "1  SRR4296064    Tumor        11.332606         2.329988        10.127734   \n",
       "2  SRR4296065   Normal         9.951182         4.264426        10.288874   \n",
       "3  SRR4296066    Tumor        12.185680         2.798643        10.178582   \n",
       "4  SRR4296067   Normal         9.875179         2.922071        10.444479   \n",
       "\n",
       "   ENSG00000000457  ENSG00000000460  ENSG00000000938  ENSG00000000971  \\\n",
       "0        10.184036         8.215333        11.310861        13.178872   \n",
       "1        10.167900         8.174060        10.399611        13.208972   \n",
       "2        10.093258         8.011385        11.814572        14.038661   \n",
       "3        10.401606         8.902321        10.294009        13.170466   \n",
       "4        10.435843         8.692961        12.604934        13.538341   \n",
       "\n",
       "   ENSG00000001036  ...  ENSG00000285985  ENSG00000285986  ENSG00000285987  \\\n",
       "0        11.469473  ...         2.329988         2.329988         2.329988   \n",
       "1        11.510862  ...         2.329988         2.329988         2.931826   \n",
       "2        11.651766  ...         2.329988         2.329988         2.931948   \n",
       "3        11.546855  ...         2.329988         2.329988         3.397771   \n",
       "4        11.733252  ...         2.329988         2.329988         2.329988   \n",
       "\n",
       "   ENSG00000285988  ENSG00000285989  ENSG00000285990  ENSG00000285991  \\\n",
       "0         2.329988         2.329988         2.329988         4.877783   \n",
       "1         2.329988         2.329988         3.375017         4.644066   \n",
       "2         2.329988         2.329988         2.329988         5.169625   \n",
       "3         2.329988         2.329988         2.874488         4.548259   \n",
       "4         2.329988         2.329988         2.329988         4.055185   \n",
       "\n",
       "   ENSG00000285992  ENSG00000285993  ENSG00000285994  \n",
       "0         2.329988         2.916440         3.332160  \n",
       "1         2.329988         2.329988         3.509185  \n",
       "2         2.932519         2.329988         3.640437  \n",
       "3         2.329988         2.329988         3.720906  \n",
       "4         2.329988         3.015702         4.348411  \n",
       "\n",
       "[5 rows x 58737 columns]"
      ]
     },
     "execution_count": 4,
     "metadata": {},
     "output_type": "execute_result"
    }
   ],
   "source": [
    "df_lung.head()"
   ]
  },
  {
   "cell_type": "markdown",
   "metadata": {},
   "source": [
    "###  The ID indicates the SRA ID from where the sample is coming from, the class here indicates whether the sample is classified as normal or a tumor, and the rest of the columns represent the gene expression values of the sample."
   ]
  },
  {
   "cell_type": "code",
   "execution_count": 5,
   "metadata": {},
   "outputs": [
    {
     "data": {
      "text/plain": [
       "0"
      ]
     },
     "execution_count": 5,
     "metadata": {},
     "output_type": "execute_result"
    }
   ],
   "source": [
    "df_lung.isna().sum().sum()"
   ]
  },
  {
   "cell_type": "markdown",
   "metadata": {},
   "source": [
    "### The first step around any data-related analysis is to start by doing EDA. This can be done by looking at the distributions of the data itself. Since EDA is quite crucial for ML, we will try to visualize the data to understand the data structure in general."
   ]
  },
  {
   "cell_type": "code",
   "execution_count": 6,
   "metadata": {},
   "outputs": [],
   "source": [
    "df = df_lung['class'].value_counts().reset_index()"
   ]
  },
  {
   "cell_type": "code",
   "execution_count": 8,
   "metadata": {},
   "outputs": [],
   "source": [
    "import seaborn as sns\n",
    "import matplotlib.pyplot as plt"
   ]
  },
  {
   "cell_type": "code",
   "execution_count": 9,
   "metadata": {},
   "outputs": [
    {
     "data": {
      "text/plain": [
       "<AxesSubplot: xlabel='class', ylabel='index'>"
      ]
     },
     "execution_count": 9,
     "metadata": {},
     "output_type": "execute_result"
    },
    {
     "data": {
      "image/png": "[encoded data removed]",
      "text/plain": [
       "<Figure size 640x480 with 1 Axes>"
      ]
     },
     "metadata": {},
     "output_type": "display_data"
    }
   ],
   "source": [
    "sns.barplot(x= 'class', y = 'index', data = df)"
   ]
  },
  {
   "cell_type": "code",
   "execution_count": 13,
   "metadata": {},
   "outputs": [],
   "source": [
    "df_lung_long = pd.melt(df_lung.iloc[:,1:12], id_vars='class')"
   ]
  },
  {
   "cell_type": "code",
   "execution_count": 17,
   "metadata": {},
   "outputs": [
    {
     "data": {
      "text/plain": [
       "Text(0, 0.5, 'Expression')"
      ]
     },
     "execution_count": 17,
     "metadata": {},
     "output_type": "execute_result"
    },
    {
     "data": {
      "image/png": "[encoded data removed]",
      "text/plain": [
       "<Figure size 640x480 with 1 Axes>"
      ]
     },
     "metadata": {},
     "output_type": "display_data"
    }
   ],
   "source": [
    "ax = sns.boxenplot(x = 'variable', y='value', data =  df_lung_long, hue='class')\n",
    "ax.set_xticklabels(ax.get_xticklabels(), rotation=90)\n",
    "plt.xlabel('Genes')\n",
    "plt.ylabel('Expression')"
   ]
  },
  {
   "cell_type": "markdown",
   "metadata": {},
   "source": [
    "As shown in Figure 3.7, each sample has a somewhat similar distribution of gene expression values except for the first few samples (compare the medians). In addition, the expression values are already normalized and there is no need to normalize this further. So, let’s proceed without normalizing these samples."
   ]
  },
  {
   "cell_type": "code",
   "execution_count": null,
   "metadata": {},
   "outputs": [],
   "source": []
  }
 ],
 "metadata": {
  "kernelspec": {
   "display_name": "Python 3",
   "language": "python",
   "name": "python3"
  },
  "language_info": {
   "codemirror_mode": {
    "name": "ipython",
    "version": 3
   },
   "file_extension": ".py",
   "mimetype": "text/x-python",
   "name": "python",
   "nbconvert_exporter": "python",
   "pygments_lexer": "ipython3",
   "version": "3.10.6"
  },
  "orig_nbformat": 4
 },
 "nbformat": 4,
 "nbformat_minor": 2
}
