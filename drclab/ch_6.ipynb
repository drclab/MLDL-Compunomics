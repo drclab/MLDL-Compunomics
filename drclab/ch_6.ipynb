{
 "cells": [
  {
   "attachments": {},
   "cell_type": "markdown",
   "metadata": {},
   "source": [
    "###  The most important type of sequential data is the time series data, which is a series of data points listed in time order. This data is key for applications such as speech recognition, sentiment analysis, language translation, and so on."
   ]
  },
  {
   "attachments": {},
   "cell_type": "markdown",
   "metadata": {},
   "source": [
    "The field of genomics, which consists of the most natural language ever – a sequence of nucleotides (A, G, C, and T) – is very well suited for RNNs applications, such as for predicting proteins from DNA sequences, predicting the binding domains of proteins, predicting the interaction between enhancers and promoters, predicting structural motifs, predicting base calls from sequencing instruments, optimizing coding sequences for increased protein production, predicting function, and so on. In this chapter, you will learn what RNNs are, how they are different from FNNs and CNNs, and how they are better suited for sequential data. By the end of this chapter, you will understand what RNNs are and why they are important in DL, the different types of RNN architectures and when to use what, and the different RNN applications in genomics."
   ]
  },
  {
   "attachments": {},
   "cell_type": "markdown",
   "metadata": {},
   "source": [
    "![](https://learning.oreilly.com/api/v2/epubs/urn:orm:book:9781804615447/files/image/B18958_06_001.jpg)"
   ]
  },
  {
   "attachments": {},
   "cell_type": "markdown",
   "metadata": {},
   "source": [
    "![](https://learning.oreilly.com/api/v2/epubs/urn:orm:book:9781804615447/files/image/B18958_06_002.jpg)"
   ]
  },
  {
   "attachments": {},
   "cell_type": "markdown",
   "metadata": {},
   "source": [
    "![](https://learning.oreilly.com/api/v2/epubs/urn:orm:book:9781804615447/files/image/B18958_06_003.jpg)"
   ]
  },
  {
   "attachments": {},
   "cell_type": "markdown",
   "metadata": {},
   "source": [
    "![](https://learning.oreilly.com/api/v2/epubs/urn:orm:book:9781804615447/files/image/B18958_06_004.jpg)"
   ]
  },
  {
   "attachments": {},
   "cell_type": "markdown",
   "metadata": {},
   "source": [
    "Another good way of illustrating how RNNs work is to explain it with an example: Imagine you have a standard FNN and give it a DNA sequence (ATGCGAG) and it processes one nucleotide at a time but by the time it reaches the last nucleotide (in this example ‘G’) it has forgotten everything about other nucleotides ‘A’, ‘T’, ‘G’, ‘C’, ‘G’, ‘A’ and FNN can't predict what nucleotide would come next. This information is important for sequential data such as DNA sequences because there is a structure to the sequence"
   ]
  },
  {
   "attachments": {},
   "cell_type": "markdown",
   "metadata": {},
   "source": [
    "##### Understanding RNNs through Transcription Factor Binding Site (TFBS) predictions Transcription factors (TF) play a key role in gene regulation, particularly during transcription, where they bind to the promoter regions and initiate the process of transcription. Transcription Factor Binding Sites (TFBSs) in DNA are short sequences in gene regulatory regions (such as promoters) and typically range in size from 5 bp to 20 bp. Each TF binds to a different TFBS and controls gene regulation in the cell. Thus, identifying the TF binding sites is key for us to understand cellular and molecular processes. Several experimental methods can identify TFBSs, such as ChIP-Seq technologies and databases such as ENCODE, which have made TFBS information available to researchers. However, ChIP-Seq technologies are expensive, slow, and laborious, and cannot find patterns in the identified TFBS. Several computational methods have become the go-to for solving this very important problem of identifying TFBSs. Given a particular sequence, predicting whether it is a TFBS or not is the core task of bioinformatics. In the following toy example, let’s see how we can use RNNs to predict a TFBS from DNA sequences. The problem of TFBS can be thought of as a binary classification problem – that is, whether the TFBS can be found in a DNA sequence or not, which we represent as 1 or 0, respectively. The input to the RNN model is the input DNA sequences and their targets, which have labels of 1 or 0. The goal here is to build a highly accurate classification model using an RNN that can be used to"
   ]
  },
  {
   "attachments": {},
   "cell_type": "markdown",
   "metadata": {},
   "source": [
    "![](https://learning.oreilly.com/api/v2/epubs/urn:orm:book:9781804615447/files/image/B18958_06_015.jpg)"
   ]
  },
  {
   "attachments": {},
   "cell_type": "markdown",
   "metadata": {},
   "source": [
    "##### As shown in Figure 6.15, samples 1 to 3 consist of positive TFBSs (label=1), where the DNA sequences consist of TFBSs, whereas samples 4 and 5 are negative (label=0):\n",
    "\n",
    "- The first thing we must do is convert DNA sequence into a one-hot encoding vector. To refresh your memory, a one-hot encoding vector converts each nucleotide of the DNA sequence into a binary vector, labeled 0 or 1.\n",
    "- After the input is fed into the RNN, it produces another matrix. As we just learned, at each timestamp, the RNN takes an input vector and the previously hidden state vector and produces the new hidden state recursively. In this case, each position in the sequence is a timestamp. At the end of the training process, the RNN produces an output vector at the timestamp of the input sequence (Figure 6.16).\n",
    "- Then, the output vector from the RNN is fed into a softmax activation function in the last layer of the network, which learns the mapping between the hidden space and the target label (0 or 1). The final output is a probability that indicates whether the DNA sequence is a TFBS or a non-TFBS.\n",
    "Like other FNNs and RNNs, we calculate the loss (cross-entropy loss) and then the model is trained until the network generates low or no loss. This minimization of the loss function is achieved using the BPTT algorithm. We can use dropout as a regularization method for the model to prevent overfitting:"
   ]
  },
  {
   "attachments": {},
   "cell_type": "markdown",
   "metadata": {},
   "source": [
    "![](https://learning.oreilly.com/api/v2/epubs/urn:orm:book:9781804615447/files/image/B18958_06_016.jpg)"
   ]
  },
  {
   "attachments": {},
   "cell_type": "markdown",
   "metadata": {},
   "source": [
    "The human reference genome was first divided into 200 bp non-overlapping segments\n",
    "For each of the 690 ChIP-seq experiments, if 100 bp-200 bp segments belonged to a peak, it was classified as positive (label=1); otherwise, it was classified as negative (label=0)\n",
    "800 bp (400 bp on either side) sequences was addede to both sides of the 200 bp segment to create a 1,000 bp input sequence"
   ]
  },
  {
   "attachments": {},
   "cell_type": "markdown",
   "metadata": {},
   "source": [
    "- After feeding input to the network through the input layer, the next layer will be a CNN. You might be wondering why we are using a CNN since the goal is to leverage an RNN for a genomics problem. This is because the CNN layer acts as a motif scanner, as we learned in the previous chapter.\n",
    "- The output from the CNN is fed into the BiLSTM layer. The output from the BiLSTM layer is then flattened and fed into a fully connected layer.\n",
    "- In the output layer of the network, a sigmoid function is applied. The final output is a 690-dimensional vector, where each element corresponds to the ChIP-seq experiment."
   ]
  },
  {
   "cell_type": "code",
   "execution_count": 1,
   "metadata": {},
   "outputs": [],
   "source": [
    "import numpy as np\n",
    "from sklearn import metrics\n",
    "import pandas as pd"
   ]
  },
  {
   "cell_type": "code",
   "execution_count": 2,
   "metadata": {},
   "outputs": [],
   "source": [
    "X_train = np.load('../Chapter06/data/X_train.npy.zip')['X_train']\n",
    "y_train = np.load('../Chapter06/data/y_train.npy.zip')['y_train']"
   ]
  },
  {
   "cell_type": "code",
   "execution_count": 3,
   "metadata": {},
   "outputs": [
    {
     "data": {
      "text/plain": [
       "(10000, 1000, 4)"
      ]
     },
     "execution_count": 3,
     "metadata": {},
     "output_type": "execute_result"
    }
   ],
   "source": [
    "X_train.shape"
   ]
  },
  {
   "cell_type": "code",
   "execution_count": 4,
   "metadata": {},
   "outputs": [
    {
     "data": {
      "text/plain": [
       "(10000, 690)"
      ]
     },
     "execution_count": 4,
     "metadata": {},
     "output_type": "execute_result"
    }
   ],
   "source": [
    "y_train.shape"
   ]
  },
  {
   "cell_type": "code",
   "execution_count": 5,
   "metadata": {},
   "outputs": [],
   "source": [
    "X_test = np.load('../Chapter06/data/X_test.npy.zip')['X_test']\n",
    "y_test = np.load('../Chapter06/data/y_test.npy.zip')['y_test']"
   ]
  },
  {
   "cell_type": "code",
   "execution_count": 6,
   "metadata": {},
   "outputs": [
    {
     "data": {
      "text/plain": [
       "(1000, 1000, 4)"
      ]
     },
     "execution_count": 6,
     "metadata": {},
     "output_type": "execute_result"
    }
   ],
   "source": [
    "X_test.shape"
   ]
  },
  {
   "cell_type": "code",
   "execution_count": 7,
   "metadata": {},
   "outputs": [
    {
     "data": {
      "text/plain": [
       "(1000, 690)"
      ]
     },
     "execution_count": 7,
     "metadata": {},
     "output_type": "execute_result"
    }
   ],
   "source": [
    "y_test.shape"
   ]
  },
  {
   "cell_type": "code",
   "execution_count": 8,
   "metadata": {},
   "outputs": [
    {
     "name": "stderr",
     "output_type": "stream",
     "text": [
      "2023-06-23 19:06:33.904177: I tensorflow/core/platform/cpu_feature_guard.cc:182] This TensorFlow binary is optimized to use available CPU instructions in performance-critical operations.\n",
      "To enable the following instructions: AVX2 FMA, in other operations, rebuild TensorFlow with the appropriate compiler flags.\n"
     ]
    }
   ],
   "source": [
    "from keras.models import Sequential\n",
    "from keras.models import Model\n",
    "from keras.layers import Dense, Dropout, Activation, Flatten, Layer, Input\n",
    "from keras.layers.convolutional import Conv1D, MaxPooling1D\n",
    "from keras.layers import LSTM\n",
    "from keras.layers import Bidirectional\n",
    "from keras.callbacks import ModelCheckpoint, EarlyStopping"
   ]
  },
  {
   "cell_type": "code",
   "execution_count": 9,
   "metadata": {},
   "outputs": [],
   "source": [
    "input_data = Input(shape=(1000,4))"
   ]
  },
  {
   "cell_type": "code",
   "execution_count": 10,
   "metadata": {},
   "outputs": [],
   "source": [
    "output = Conv1D(320, kernel_size=26, activation='relu')(input_data)\n",
    "output = MaxPooling1D()(output)\n",
    "output = Dropout(0.2)(output)"
   ]
  },
  {
   "cell_type": "code",
   "execution_count": 11,
   "metadata": {},
   "outputs": [
    {
     "name": "stderr",
     "output_type": "stream",
     "text": [
      "2023-06-23 19:06:37.825081: I tensorflow/core/common_runtime/executor.cc:1197] [/device:CPU:0] (DEBUG INFO) Executor start aborting (this does not indicate an error and you can ignore this message): INVALID_ARGUMENT: You must feed a value for placeholder tensor 'gradients/split_2_grad/concat/split_2/split_dim' with dtype int32\n",
      "\t [[{{node gradients/split_2_grad/concat/split_2/split_dim}}]]\n",
      "2023-06-23 19:06:37.826189: I tensorflow/core/common_runtime/executor.cc:1197] [/device:CPU:0] (DEBUG INFO) Executor start aborting (this does not indicate an error and you can ignore this message): INVALID_ARGUMENT: You must feed a value for placeholder tensor 'gradients/split_grad/concat/split/split_dim' with dtype int32\n",
      "\t [[{{node gradients/split_grad/concat/split/split_dim}}]]\n",
      "2023-06-23 19:06:37.827534: I tensorflow/core/common_runtime/executor.cc:1197] [/device:CPU:0] (DEBUG INFO) Executor start aborting (this does not indicate an error and you can ignore this message): INVALID_ARGUMENT: You must feed a value for placeholder tensor 'gradients/split_1_grad/concat/split_1/split_dim' with dtype int32\n",
      "\t [[{{node gradients/split_1_grad/concat/split_1/split_dim}}]]\n",
      "2023-06-23 19:06:37.985181: I tensorflow/core/common_runtime/executor.cc:1197] [/device:CPU:0] (DEBUG INFO) Executor start aborting (this does not indicate an error and you can ignore this message): INVALID_ARGUMENT: You must feed a value for placeholder tensor 'gradients/ReverseV2_grad/ReverseV2/ReverseV2/axis' with dtype int32 and shape [1]\n",
      "\t [[{{node gradients/ReverseV2_grad/ReverseV2/ReverseV2/axis}}]]\n",
      "2023-06-23 19:06:38.034793: I tensorflow/core/common_runtime/executor.cc:1197] [/device:CPU:0] (DEBUG INFO) Executor start aborting (this does not indicate an error and you can ignore this message): INVALID_ARGUMENT: You must feed a value for placeholder tensor 'gradients/split_2_grad/concat/split_2/split_dim' with dtype int32\n",
      "\t [[{{node gradients/split_2_grad/concat/split_2/split_dim}}]]\n",
      "2023-06-23 19:06:38.036423: I tensorflow/core/common_runtime/executor.cc:1197] [/device:CPU:0] (DEBUG INFO) Executor start aborting (this does not indicate an error and you can ignore this message): INVALID_ARGUMENT: You must feed a value for placeholder tensor 'gradients/split_grad/concat/split/split_dim' with dtype int32\n",
      "\t [[{{node gradients/split_grad/concat/split/split_dim}}]]\n",
      "2023-06-23 19:06:38.038036: I tensorflow/core/common_runtime/executor.cc:1197] [/device:CPU:0] (DEBUG INFO) Executor start aborting (this does not indicate an error and you can ignore this message): INVALID_ARGUMENT: You must feed a value for placeholder tensor 'gradients/split_1_grad/concat/split_1/split_dim' with dtype int32\n",
      "\t [[{{node gradients/split_1_grad/concat/split_1/split_dim}}]]\n"
     ]
    }
   ],
   "source": [
    "output = Bidirectional(LSTM(320, return_sequences=True))(output)\n",
    "output = Dropout(0.5)(output)"
   ]
  },
  {
   "cell_type": "code",
   "execution_count": 12,
   "metadata": {},
   "outputs": [],
   "source": [
    "flat_output = Flatten()(output)"
   ]
  },
  {
   "cell_type": "code",
   "execution_count": 13,
   "metadata": {},
   "outputs": [],
   "source": [
    "FC_output = Dense(695)(flat_output)\n",
    "FC_output = Activation('relu')(FC_output)"
   ]
  },
  {
   "cell_type": "code",
   "execution_count": 14,
   "metadata": {},
   "outputs": [],
   "source": [
    "output = Dense(690)(FC_output)\n",
    "output = Activation('sigmoid')(output)"
   ]
  },
  {
   "cell_type": "code",
   "execution_count": 15,
   "metadata": {},
   "outputs": [],
   "source": [
    "model = Model(inputs=input_data, outputs=output)"
   ]
  },
  {
   "cell_type": "code",
   "execution_count": 16,
   "metadata": {},
   "outputs": [],
   "source": [
    "model.compile(loss='binary_crossentropy', optimizer='adam')"
   ]
  },
  {
   "cell_type": "code",
   "execution_count": 17,
   "metadata": {},
   "outputs": [
    {
     "name": "stdout",
     "output_type": "stream",
     "text": [
      "Model: \"model\"\n",
      "_________________________________________________________________\n",
      " Layer (type)                Output Shape              Param #   \n",
      "=================================================================\n",
      " input_1 (InputLayer)        [(None, 1000, 4)]         0         \n",
      "                                                                 \n",
      " conv1d (Conv1D)             (None, 975, 320)          33600     \n",
      "                                                                 \n",
      " max_pooling1d (MaxPooling1D  (None, 487, 320)         0         \n",
      " )                                                               \n",
      "                                                                 \n",
      " dropout (Dropout)           (None, 487, 320)          0         \n",
      "                                                                 \n",
      " bidirectional (Bidirectiona  (None, 487, 640)         1640960   \n",
      " l)                                                              \n",
      "                                                                 \n",
      " dropout_1 (Dropout)         (None, 487, 640)          0         \n",
      "                                                                 \n",
      " flatten (Flatten)           (None, 311680)            0         \n",
      "                                                                 \n",
      " dense (Dense)               (None, 695)               216618295 \n",
      "                                                                 \n",
      " activation (Activation)     (None, 695)               0         \n",
      "                                                                 \n",
      " dense_1 (Dense)             (None, 690)               480240    \n",
      "                                                                 \n",
      " activation_1 (Activation)   (None, 690)               0         \n",
      "                                                                 \n",
      "=================================================================\n",
      "Total params: 218,773,095\n",
      "Trainable params: 218,773,095\n",
      "Non-trainable params: 0\n",
      "_________________________________________________________________\n"
     ]
    }
   ],
   "source": [
    "model.summary()"
   ]
  },
  {
   "cell_type": "code",
   "execution_count": 18,
   "metadata": {},
   "outputs": [],
   "source": [
    "checkpoints = ModelCheckpoint(filepath='./model/bilstm_model.hdf5', verbose=1, save_best_only=False)\n",
    "earlystopper = EarlyStopping(monitor='val_loss', patience=10, verbose=1)"
   ]
  },
  {
   "cell_type": "code",
   "execution_count": 19,
   "metadata": {},
   "outputs": [
    {
     "name": "stdout",
     "output_type": "stream",
     "text": [
      "Epoch 1/2\n"
     ]
    },
    {
     "name": "stderr",
     "output_type": "stream",
     "text": [
      "2023-06-23 19:06:39.435022: I tensorflow/core/common_runtime/executor.cc:1197] [/device:CPU:0] (DEBUG INFO) Executor start aborting (this does not indicate an error and you can ignore this message): INVALID_ARGUMENT: You must feed a value for placeholder tensor 'gradients/split_2_grad/concat/split_2/split_dim' with dtype int32\n",
      "\t [[{{node gradients/split_2_grad/concat/split_2/split_dim}}]]\n",
      "2023-06-23 19:06:39.438897: I tensorflow/core/common_runtime/executor.cc:1197] [/device:CPU:0] (DEBUG INFO) Executor start aborting (this does not indicate an error and you can ignore this message): INVALID_ARGUMENT: You must feed a value for placeholder tensor 'gradients/split_grad/concat/split/split_dim' with dtype int32\n",
      "\t [[{{node gradients/split_grad/concat/split/split_dim}}]]\n",
      "2023-06-23 19:06:39.443003: I tensorflow/core/common_runtime/executor.cc:1197] [/device:CPU:0] (DEBUG INFO) Executor start aborting (this does not indicate an error and you can ignore this message): INVALID_ARGUMENT: You must feed a value for placeholder tensor 'gradients/split_1_grad/concat/split_1/split_dim' with dtype int32\n",
      "\t [[{{node gradients/split_1_grad/concat/split_1/split_dim}}]]\n",
      "2023-06-23 19:06:39.812006: I tensorflow/core/common_runtime/executor.cc:1197] [/device:CPU:0] (DEBUG INFO) Executor start aborting (this does not indicate an error and you can ignore this message): INVALID_ARGUMENT: You must feed a value for placeholder tensor 'gradients/ReverseV2_grad/ReverseV2/ReverseV2/axis' with dtype int32 and shape [1]\n",
      "\t [[{{node gradients/ReverseV2_grad/ReverseV2/ReverseV2/axis}}]]\n",
      "2023-06-23 19:06:39.895997: I tensorflow/core/common_runtime/executor.cc:1197] [/device:CPU:0] (DEBUG INFO) Executor start aborting (this does not indicate an error and you can ignore this message): INVALID_ARGUMENT: You must feed a value for placeholder tensor 'gradients/split_2_grad/concat/split_2/split_dim' with dtype int32\n",
      "\t [[{{node gradients/split_2_grad/concat/split_2/split_dim}}]]\n",
      "2023-06-23 19:06:39.897907: I tensorflow/core/common_runtime/executor.cc:1197] [/device:CPU:0] (DEBUG INFO) Executor start aborting (this does not indicate an error and you can ignore this message): INVALID_ARGUMENT: You must feed a value for placeholder tensor 'gradients/split_grad/concat/split/split_dim' with dtype int32\n",
      "\t [[{{node gradients/split_grad/concat/split/split_dim}}]]\n",
      "2023-06-23 19:06:39.899630: I tensorflow/core/common_runtime/executor.cc:1197] [/device:CPU:0] (DEBUG INFO) Executor start aborting (this does not indicate an error and you can ignore this message): INVALID_ARGUMENT: You must feed a value for placeholder tensor 'gradients/split_1_grad/concat/split_1/split_dim' with dtype int32\n",
      "\t [[{{node gradients/split_1_grad/concat/split_1/split_dim}}]]\n",
      "2023-06-23 19:06:40.462460: I tensorflow/core/common_runtime/executor.cc:1197] [/device:CPU:0] (DEBUG INFO) Executor start aborting (this does not indicate an error and you can ignore this message): INVALID_ARGUMENT: You must feed a value for placeholder tensor 'gradients/ReverseV2_grad/ReverseV2/ReverseV2/axis' with dtype int32 and shape [1]\n",
      "\t [[{{node gradients/ReverseV2_grad/ReverseV2/ReverseV2/axis}}]]\n",
      "2023-06-23 19:06:41.433726: I tensorflow/core/common_runtime/executor.cc:1197] [/device:CPU:0] (DEBUG INFO) Executor start aborting (this does not indicate an error and you can ignore this message): INVALID_ARGUMENT: You must feed a value for placeholder tensor 'gradients/split_2_grad/concat/split_2/split_dim' with dtype int32\n",
      "\t [[{{node gradients/split_2_grad/concat/split_2/split_dim}}]]\n",
      "2023-06-23 19:06:41.436995: I tensorflow/core/common_runtime/executor.cc:1197] [/device:CPU:0] (DEBUG INFO) Executor start aborting (this does not indicate an error and you can ignore this message): INVALID_ARGUMENT: You must feed a value for placeholder tensor 'gradients/split_grad/concat/split/split_dim' with dtype int32\n",
      "\t [[{{node gradients/split_grad/concat/split/split_dim}}]]\n",
      "2023-06-23 19:06:41.439434: I tensorflow/core/common_runtime/executor.cc:1197] [/device:CPU:0] (DEBUG INFO) Executor start aborting (this does not indicate an error and you can ignore this message): INVALID_ARGUMENT: You must feed a value for placeholder tensor 'gradients/split_1_grad/concat/split_1/split_dim' with dtype int32\n",
      "\t [[{{node gradients/split_1_grad/concat/split_1/split_dim}}]]\n",
      "2023-06-23 19:06:41.748909: I tensorflow/core/common_runtime/executor.cc:1197] [/device:CPU:0] (DEBUG INFO) Executor start aborting (this does not indicate an error and you can ignore this message): INVALID_ARGUMENT: You must feed a value for placeholder tensor 'gradients/ReverseV2_grad/ReverseV2/ReverseV2/axis' with dtype int32 and shape [1]\n",
      "\t [[{{node gradients/ReverseV2_grad/ReverseV2/ReverseV2/axis}}]]\n",
      "2023-06-23 19:06:41.835909: I tensorflow/core/common_runtime/executor.cc:1197] [/device:CPU:0] (DEBUG INFO) Executor start aborting (this does not indicate an error and you can ignore this message): INVALID_ARGUMENT: You must feed a value for placeholder tensor 'gradients/split_2_grad/concat/split_2/split_dim' with dtype int32\n",
      "\t [[{{node gradients/split_2_grad/concat/split_2/split_dim}}]]\n",
      "2023-06-23 19:06:41.837938: I tensorflow/core/common_runtime/executor.cc:1197] [/device:CPU:0] (DEBUG INFO) Executor start aborting (this does not indicate an error and you can ignore this message): INVALID_ARGUMENT: You must feed a value for placeholder tensor 'gradients/split_grad/concat/split/split_dim' with dtype int32\n",
      "\t [[{{node gradients/split_grad/concat/split/split_dim}}]]\n",
      "2023-06-23 19:06:41.839807: I tensorflow/core/common_runtime/executor.cc:1197] [/device:CPU:0] (DEBUG INFO) Executor start aborting (this does not indicate an error and you can ignore this message): INVALID_ARGUMENT: You must feed a value for placeholder tensor 'gradients/split_1_grad/concat/split_1/split_dim' with dtype int32\n",
      "\t [[{{node gradients/split_1_grad/concat/split_1/split_dim}}]]\n",
      "2023-06-23 19:06:42.401756: I tensorflow/core/common_runtime/executor.cc:1197] [/device:CPU:0] (DEBUG INFO) Executor start aborting (this does not indicate an error and you can ignore this message): INVALID_ARGUMENT: You must feed a value for placeholder tensor 'gradients/ReverseV2_grad/ReverseV2/ReverseV2/axis' with dtype int32 and shape [1]\n",
      "\t [[{{node gradients/ReverseV2_grad/ReverseV2/ReverseV2/axis}}]]\n"
     ]
    },
    {
     "name": "stdout",
     "output_type": "stream",
     "text": [
      "90/90 [==============================] - ETA: 0s - loss: 0.0814"
     ]
    },
    {
     "name": "stderr",
     "output_type": "stream",
     "text": [
      "2023-06-23 19:15:51.888663: I tensorflow/core/common_runtime/executor.cc:1197] [/device:CPU:0] (DEBUG INFO) Executor start aborting (this does not indicate an error and you can ignore this message): INVALID_ARGUMENT: You must feed a value for placeholder tensor 'gradients/split_2_grad/concat/split_2/split_dim' with dtype int32\n",
      "\t [[{{node gradients/split_2_grad/concat/split_2/split_dim}}]]\n",
      "2023-06-23 19:15:51.891809: I tensorflow/core/common_runtime/executor.cc:1197] [/device:CPU:0] (DEBUG INFO) Executor start aborting (this does not indicate an error and you can ignore this message): INVALID_ARGUMENT: You must feed a value for placeholder tensor 'gradients/split_grad/concat/split/split_dim' with dtype int32\n",
      "\t [[{{node gradients/split_grad/concat/split/split_dim}}]]\n",
      "2023-06-23 19:15:51.894646: I tensorflow/core/common_runtime/executor.cc:1197] [/device:CPU:0] (DEBUG INFO) Executor start aborting (this does not indicate an error and you can ignore this message): INVALID_ARGUMENT: You must feed a value for placeholder tensor 'gradients/split_1_grad/concat/split_1/split_dim' with dtype int32\n",
      "\t [[{{node gradients/split_1_grad/concat/split_1/split_dim}}]]\n",
      "2023-06-23 19:15:52.133145: I tensorflow/core/common_runtime/executor.cc:1197] [/device:CPU:0] (DEBUG INFO) Executor start aborting (this does not indicate an error and you can ignore this message): INVALID_ARGUMENT: You must feed a value for placeholder tensor 'gradients/ReverseV2_grad/ReverseV2/ReverseV2/axis' with dtype int32 and shape [1]\n",
      "\t [[{{node gradients/ReverseV2_grad/ReverseV2/ReverseV2/axis}}]]\n",
      "2023-06-23 19:15:52.211829: I tensorflow/core/common_runtime/executor.cc:1197] [/device:CPU:0] (DEBUG INFO) Executor start aborting (this does not indicate an error and you can ignore this message): INVALID_ARGUMENT: You must feed a value for placeholder tensor 'gradients/split_2_grad/concat/split_2/split_dim' with dtype int32\n",
      "\t [[{{node gradients/split_2_grad/concat/split_2/split_dim}}]]\n",
      "2023-06-23 19:15:52.214007: I tensorflow/core/common_runtime/executor.cc:1197] [/device:CPU:0] (DEBUG INFO) Executor start aborting (this does not indicate an error and you can ignore this message): INVALID_ARGUMENT: You must feed a value for placeholder tensor 'gradients/split_grad/concat/split/split_dim' with dtype int32\n",
      "\t [[{{node gradients/split_grad/concat/split/split_dim}}]]\n",
      "2023-06-23 19:15:52.216724: I tensorflow/core/common_runtime/executor.cc:1197] [/device:CPU:0] (DEBUG INFO) Executor start aborting (this does not indicate an error and you can ignore this message): INVALID_ARGUMENT: You must feed a value for placeholder tensor 'gradients/split_1_grad/concat/split_1/split_dim' with dtype int32\n",
      "\t [[{{node gradients/split_1_grad/concat/split_1/split_dim}}]]\n"
     ]
    },
    {
     "name": "stdout",
     "output_type": "stream",
     "text": [
      "\n",
      "Epoch 1: saving model to ./model/bilstm_model.hdf5\n",
      "90/90 [==============================] - 569s 6s/step - loss: 0.0814 - val_loss: 0.0585\n",
      "Epoch 2/2\n",
      "90/90 [==============================] - ETA: 0s - loss: 0.0603\n",
      "Epoch 2: saving model to ./model/bilstm_model.hdf5\n",
      "90/90 [==============================] - 664s 7s/step - loss: 0.0603 - val_loss: 0.0585\n"
     ]
    }
   ],
   "source": [
    "history = model.fit(X_train, y_train, batch_size=100, \n",
    "                    epochs=2, shuffle=True, verbose=1, validation_split=0.1, \n",
    "                    callbacks=[checkpoints,earlystopper])"
   ]
  },
  {
   "attachments": {},
   "cell_type": "markdown",
   "metadata": {},
   "source": [
    "##### RNNs are a special type of neural network that is well suited for sequential data such as time series, audio, video, and text. Research showed that RNNs have improved the performance of sequential data types when compared to other architectures such as FNNs and CNNs. The key to an RNN is the sequence memory state, which helps it store information from the previously analyzed state; this is good for sequential signal analysis and predictive analysis. In this chapter, we learned how RNNs are different from FNNs and CNNs. We understood the different types of RNNs and what makes them good for sequential data analysis by looking at a few examples. RNNs, as you may have noticed, are good for mapping a fixed or variable-sized input sequence to a fixed or variable-sized output; we have seen several examples to understand this.\n",
    "\n",
    "##### We also looked at how RNNs can help with genomics tasks and understood the different architectural types of RNNs. Bidirectional RNN, LSTM, and GRU are variants of RNNs that are capable of long-term associations, thereby retaining the information from an infinite sequence, which is very common in genomics. They address long-term dependencies.\n",
    "\n",
    "##### You were also introduced to the different RNN types and their applications in various domains, such as image captioning, language translation, and others. Finally, we looked at how RNNs are used to solve some of the key problems in genomics, such as TF binding site detection, miRNA-mRNA sequence modeling, gene expression analysis, histone modifications, base calling, and more. In the next chapter, we will look at another exciting neural network architecture called autoencoders, which has a lot of potential applications in genomics."
   ]
  },
  {
   "attachments": {},
   "cell_type": "markdown",
   "metadata": {},
   "source": [
    "___"
   ]
  },
  {
   "attachments": {},
   "cell_type": "markdown",
   "metadata": {},
   "source": [
    "### Test "
   ]
  },
  {
   "cell_type": "code",
   "execution_count": 24,
   "metadata": {},
   "outputs": [],
   "source": [
    "X_test = np.load('../Chapter06/data/X_test.npy.zip')['X_test']"
   ]
  },
  {
   "cell_type": "code",
   "execution_count": 26,
   "metadata": {},
   "outputs": [
    {
     "data": {
      "text/plain": [
       "(1000, 1000, 4)"
      ]
     },
     "execution_count": 26,
     "metadata": {},
     "output_type": "execute_result"
    }
   ],
   "source": [
    "X_test.shape"
   ]
  },
  {
   "cell_type": "code",
   "execution_count": 25,
   "metadata": {},
   "outputs": [],
   "source": [
    "y_test = np.load('../Chapter06/data/y_test.npy.zip')['y_test']"
   ]
  },
  {
   "cell_type": "code",
   "execution_count": 27,
   "metadata": {},
   "outputs": [
    {
     "data": {
      "text/plain": [
       "(1000, 690)"
      ]
     },
     "execution_count": 27,
     "metadata": {},
     "output_type": "execute_result"
    }
   ],
   "source": [
    "y_test.shape"
   ]
  },
  {
   "cell_type": "code",
   "execution_count": 28,
   "metadata": {},
   "outputs": [],
   "source": [
    "from keras.models import load_model"
   ]
  },
  {
   "cell_type": "code",
   "execution_count": 29,
   "metadata": {},
   "outputs": [
    {
     "name": "stderr",
     "output_type": "stream",
     "text": [
      "2023-06-23 19:35:03.608653: I tensorflow/core/common_runtime/executor.cc:1197] [/device:CPU:0] (DEBUG INFO) Executor start aborting (this does not indicate an error and you can ignore this message): INVALID_ARGUMENT: You must feed a value for placeholder tensor 'gradients/split_2_grad/concat/split_2/split_dim' with dtype int32\n",
      "\t [[{{node gradients/split_2_grad/concat/split_2/split_dim}}]]\n",
      "2023-06-23 19:35:03.610223: I tensorflow/core/common_runtime/executor.cc:1197] [/device:CPU:0] (DEBUG INFO) Executor start aborting (this does not indicate an error and you can ignore this message): INVALID_ARGUMENT: You must feed a value for placeholder tensor 'gradients/split_grad/concat/split/split_dim' with dtype int32\n",
      "\t [[{{node gradients/split_grad/concat/split/split_dim}}]]\n",
      "2023-06-23 19:35:03.611555: I tensorflow/core/common_runtime/executor.cc:1197] [/device:CPU:0] (DEBUG INFO) Executor start aborting (this does not indicate an error and you can ignore this message): INVALID_ARGUMENT: You must feed a value for placeholder tensor 'gradients/split_1_grad/concat/split_1/split_dim' with dtype int32\n",
      "\t [[{{node gradients/split_1_grad/concat/split_1/split_dim}}]]\n",
      "2023-06-23 19:35:03.800826: I tensorflow/core/common_runtime/executor.cc:1197] [/device:CPU:0] (DEBUG INFO) Executor start aborting (this does not indicate an error and you can ignore this message): INVALID_ARGUMENT: You must feed a value for placeholder tensor 'gradients/ReverseV2_grad/ReverseV2/ReverseV2/axis' with dtype int32 and shape [1]\n",
      "\t [[{{node gradients/ReverseV2_grad/ReverseV2/ReverseV2/axis}}]]\n",
      "2023-06-23 19:35:03.860517: I tensorflow/core/common_runtime/executor.cc:1197] [/device:CPU:0] (DEBUG INFO) Executor start aborting (this does not indicate an error and you can ignore this message): INVALID_ARGUMENT: You must feed a value for placeholder tensor 'gradients/split_2_grad/concat/split_2/split_dim' with dtype int32\n",
      "\t [[{{node gradients/split_2_grad/concat/split_2/split_dim}}]]\n",
      "2023-06-23 19:35:03.862440: I tensorflow/core/common_runtime/executor.cc:1197] [/device:CPU:0] (DEBUG INFO) Executor start aborting (this does not indicate an error and you can ignore this message): INVALID_ARGUMENT: You must feed a value for placeholder tensor 'gradients/split_grad/concat/split/split_dim' with dtype int32\n",
      "\t [[{{node gradients/split_grad/concat/split/split_dim}}]]\n",
      "2023-06-23 19:35:03.863642: I tensorflow/core/common_runtime/executor.cc:1197] [/device:CPU:0] (DEBUG INFO) Executor start aborting (this does not indicate an error and you can ignore this message): INVALID_ARGUMENT: You must feed a value for placeholder tensor 'gradients/split_1_grad/concat/split_1/split_dim' with dtype int32\n",
      "\t [[{{node gradients/split_1_grad/concat/split_1/split_dim}}]]\n"
     ]
    }
   ],
   "source": [
    "model = load_model(filepath='./model/bilstm_model.hdf5')"
   ]
  },
  {
   "cell_type": "code",
   "execution_count": 31,
   "metadata": {},
   "outputs": [
    {
     "name": "stdout",
     "output_type": "stream",
     "text": [
      "32/32 [==============================] - 18s 554ms/step\n"
     ]
    }
   ],
   "source": [
    "y_pred = model.predict(X_test)"
   ]
  },
  {
   "cell_type": "code",
   "execution_count": 32,
   "metadata": {},
   "outputs": [
    {
     "data": {
      "text/plain": [
       "(1000, 690)"
      ]
     },
     "execution_count": 32,
     "metadata": {},
     "output_type": "execute_result"
    }
   ],
   "source": [
    "y_pred.shape"
   ]
  },
  {
   "cell_type": "code",
   "execution_count": 34,
   "metadata": {},
   "outputs": [
    {
     "data": {
      "text/plain": [
       "array([2.03672126e-02, 2.77937157e-04, 3.58950272e-02, 9.39054298e-05,\n",
       "       7.35689944e-04, 8.22189972e-02, 7.64844299e-04, 4.95614368e-04,\n",
       "       1.57674646e-03, 4.77743484e-02, 1.12880208e-02, 7.33772467e-04,\n",
       "       2.73585431e-02, 8.86613794e-04, 9.08177905e-03, 5.08794852e-04,\n",
       "       1.96653847e-02, 4.43878875e-04, 2.21817456e-02, 9.69089306e-05,\n",
       "       1.22145228e-02, 7.25833990e-04, 1.19061850e-03, 5.50125679e-03,\n",
       "       4.43222374e-02, 1.07723568e-03, 3.39738559e-03, 2.36610952e-03,\n",
       "       1.77485344e-04, 8.96486046e-04, 2.53929407e-03, 1.96646317e-03,\n",
       "       5.43232495e-03, 4.50459635e-03, 1.38901535e-03, 1.89526994e-02,\n",
       "       1.09401811e-03, 2.02538390e-02, 5.22596063e-04, 2.23143715e-02,\n",
       "       3.60747310e-03, 2.81107775e-03, 8.57488345e-03, 2.78341374e-03,\n",
       "       3.12339757e-02, 1.96294000e-04, 4.24290821e-03, 1.17637310e-03,\n",
       "       9.33062751e-03, 2.31769774e-02, 3.68017529e-04, 3.85992957e-04,\n",
       "       1.75404572e-03, 4.99048692e-05, 5.47510572e-03, 7.19012052e-04,\n",
       "       5.20593207e-03, 1.93004933e-04, 3.34200775e-03, 7.36294314e-03,\n",
       "       5.45501709e-03, 3.30054876e-03, 3.18506057e-03, 5.29334880e-04,\n",
       "       1.89287169e-03, 2.00000778e-03, 4.09614854e-03, 3.82992468e-04,\n",
       "       1.64754712e-03, 1.13257754e-03, 1.81191531e-03, 1.34315738e-03,\n",
       "       3.36004654e-03, 2.17491970e-03, 8.20351858e-03, 2.14963360e-03,\n",
       "       1.61156757e-03, 2.36564130e-03, 1.95601350e-03, 3.19522643e-03,\n",
       "       1.98781112e-04, 3.12058558e-03, 3.45410756e-03, 3.13083306e-02,\n",
       "       1.72005256e-03, 5.39707718e-04, 7.79884495e-03, 2.73595128e-04,\n",
       "       2.05609458e-03, 8.32963211e-04, 2.26370082e-03, 9.45582113e-04,\n",
       "       5.13420114e-03, 7.41794647e-04, 3.90442845e-04, 1.09332008e-03,\n",
       "       5.71167171e-02, 3.25032324e-03, 1.01007463e-03, 1.19724148e-03,\n",
       "       3.54510336e-03, 1.10053942e-02, 1.32298162e-02, 2.76546460e-03,\n",
       "       7.50362128e-03, 8.05579312e-03, 1.19257765e-03, 8.29947088e-03,\n",
       "       8.55763908e-03, 1.04703307e-02, 2.98111350e-04, 2.17044749e-03,\n",
       "       2.20676931e-03, 1.26543455e-03, 1.10108284e-02, 2.29925918e-03,\n",
       "       2.30523944e-03, 8.61291308e-03, 2.05217768e-03, 5.67723019e-03,\n",
       "       5.73594822e-04, 5.35732927e-03, 1.48452687e-04, 9.16019175e-03,\n",
       "       6.98390603e-03, 4.10215510e-03, 1.53879812e-02, 3.04329325e-03,\n",
       "       4.28714702e-04, 1.01703242e-03, 6.89969398e-03, 4.87747928e-03,\n",
       "       6.85051782e-04, 1.25561247e-03, 2.66244169e-03, 3.09194438e-03,\n",
       "       2.06801851e-05, 3.79070826e-02, 3.05024977e-03, 1.17289298e-03,\n",
       "       3.32708750e-03, 2.68412201e-04, 4.02050006e-04, 1.14020868e-03,\n",
       "       5.46839600e-03, 1.60074094e-03, 3.84931779e-03, 6.87604304e-03,\n",
       "       4.21567267e-04, 6.01748265e-02, 5.24734787e-05, 1.02778233e-03,\n",
       "       5.21102280e-04, 7.16916984e-03, 6.28253620e-04, 1.21294952e-03,\n",
       "       3.96139396e-04, 2.34604022e-03, 6.95432245e-04, 3.58828460e-03,\n",
       "       6.37773285e-03, 6.81359507e-03, 3.77940806e-03, 5.09430235e-03,\n",
       "       2.29914859e-03, 1.74688245e-03, 1.17874215e-03, 1.73495035e-03,\n",
       "       1.91431958e-03, 7.95385800e-04, 9.13420226e-04, 2.30542995e-04,\n",
       "       1.58200460e-03, 1.11601909e-03, 1.74964853e-02, 7.91524071e-03,\n",
       "       1.09738158e-02, 1.87186264e-02, 1.21890223e-02, 1.27027072e-02,\n",
       "       1.10140536e-02, 7.00491294e-03, 3.63167073e-03, 6.21518400e-03,\n",
       "       7.35613285e-03, 5.02613038e-05, 3.43006384e-03, 7.02395709e-03,\n",
       "       2.99058296e-03, 1.75263279e-03, 6.88742241e-03, 1.06763588e-02,\n",
       "       1.68872066e-02, 2.10794099e-02, 7.81282689e-03, 3.36312177e-03,\n",
       "       8.24056286e-03, 9.38668454e-05, 1.74478663e-03, 3.47349234e-03,\n",
       "       5.19089343e-04, 1.37827522e-03, 7.43802637e-03, 7.79252732e-03,\n",
       "       1.20578450e-04, 1.44824164e-03, 4.84763831e-03, 5.88632363e-04,\n",
       "       2.07674876e-03, 1.09057983e-04, 9.20423307e-04, 2.15837229e-02,\n",
       "       3.21563743e-02, 3.07513643e-02, 6.74141245e-03, 5.07459091e-03,\n",
       "       7.22900173e-03, 5.25229983e-03, 1.05160580e-03, 6.03954773e-03,\n",
       "       2.24506739e-03, 7.26538152e-03, 1.40681234e-03, 1.20435748e-02,\n",
       "       2.01529800e-03, 2.66899839e-02, 8.04152805e-03, 3.89852654e-03,\n",
       "       5.42625878e-03, 1.24096004e-02, 1.12884315e-02, 1.03420038e-02,\n",
       "       4.18569706e-03, 2.46279349e-04, 7.28237093e-04, 4.44307923e-04,\n",
       "       6.33195450e-04, 8.19232501e-03, 1.50979601e-03, 5.95923979e-04,\n",
       "       2.87184138e-02, 2.21955808e-04, 2.15047132e-03, 1.93304960e-02,\n",
       "       1.44432322e-03, 3.40561010e-03, 1.11796521e-03, 5.75419841e-03,\n",
       "       3.00619309e-03, 2.27483804e-03, 6.15901034e-03, 1.28682179e-03,\n",
       "       8.93082377e-03, 5.43704518e-05, 2.85295071e-04, 5.54373628e-03,\n",
       "       1.65188138e-03, 5.08377375e-03, 1.44237827e-03, 1.28959783e-03,\n",
       "       8.19588266e-03, 8.98602232e-03, 2.01512314e-02, 1.80687441e-03,\n",
       "       1.13861542e-03, 7.41822936e-04, 5.42693946e-04, 4.63533169e-03,\n",
       "       2.05504801e-03, 5.70769771e-04, 3.97769414e-04, 6.33350573e-03,\n",
       "       2.30700034e-03, 7.66665384e-04, 6.97118696e-04, 1.95075339e-03,\n",
       "       1.52054927e-04, 1.32406619e-03, 8.49066360e-04, 1.88235397e-04,\n",
       "       2.14904756e-03, 1.35306196e-04, 3.47824744e-03, 7.41267810e-04,\n",
       "       4.62021306e-03, 5.60369168e-04, 1.53327288e-04, 1.23936986e-03,\n",
       "       1.52238680e-03, 1.73852852e-04, 6.52586250e-03, 7.69728562e-04,\n",
       "       1.44058578e-02, 1.15342997e-03, 5.92369121e-04, 2.46159150e-04,\n",
       "       2.24586437e-03, 1.57772412e-03, 3.93473264e-03, 2.50203011e-04,\n",
       "       2.85421801e-03, 2.00943628e-04, 3.29724373e-03, 2.06048833e-03,\n",
       "       5.50900877e-04, 1.08186365e-03, 2.63736746e-03, 2.78390874e-03,\n",
       "       3.04563320e-04, 4.20756987e-06, 9.03287064e-03, 7.80549017e-04,\n",
       "       3.30888736e-03, 5.61540201e-03, 6.51768059e-04, 9.26754801e-05,\n",
       "       3.22103756e-03, 2.83152238e-03, 5.77876950e-03, 2.54694209e-03,\n",
       "       6.84832642e-03, 4.36227674e-06, 2.48459424e-03, 1.33517074e-06,\n",
       "       3.31643460e-05, 1.88344922e-02, 1.87084347e-03, 5.04021486e-03,\n",
       "       3.26183415e-03, 1.18931420e-02, 5.01304748e-04, 1.56927842e-03,\n",
       "       4.93400358e-03, 8.49853619e-04, 4.14584996e-03, 6.37814403e-03,\n",
       "       6.35842385e-04, 1.96572859e-03, 1.55919499e-03, 2.28794036e-03,\n",
       "       2.22750264e-03, 1.21948484e-03, 5.31159982e-04, 2.50330241e-03,\n",
       "       9.38155863e-04, 8.81419342e-04, 2.97821010e-04, 8.53992766e-04,\n",
       "       1.54420140e-03, 1.65395191e-04, 3.22273560e-03, 2.83803558e-03,\n",
       "       2.44536027e-02, 7.90441234e-04, 5.98402345e-04, 1.99623685e-02,\n",
       "       3.20590974e-04, 5.29263867e-03, 2.74977367e-02, 3.28451581e-03,\n",
       "       2.86137476e-03, 4.47652815e-03, 1.80874346e-03, 4.08332981e-03,\n",
       "       3.48521833e-04, 1.30777478e-01, 6.25654589e-04, 1.62729435e-02,\n",
       "       4.97861132e-02, 4.45667561e-03, 5.52973943e-03, 3.45085282e-03,\n",
       "       2.97815626e-04, 2.27175464e-04, 3.32313217e-03, 1.64917128e-05,\n",
       "       8.47885588e-07, 5.89454576e-05, 6.84356643e-03, 8.60661152e-04,\n",
       "       2.93400721e-03, 4.45159012e-03, 4.35438240e-03, 2.60485616e-03,\n",
       "       6.27065543e-04, 8.46496041e-05, 1.53344916e-03, 1.67936541e-03,\n",
       "       5.79613086e-04, 7.41713971e-04, 2.00450816e-03, 5.69935888e-03,\n",
       "       1.54388559e-04, 8.51883553e-03, 1.63862540e-03, 5.00672217e-03,\n",
       "       3.44098196e-03, 1.66074769e-03, 2.58403015e-04, 1.30248314e-03,\n",
       "       2.92388839e-04, 1.95019098e-03, 2.71652103e-03, 2.76723504e-03,\n",
       "       1.24341153e-04, 1.12385135e-02, 1.23369868e-03, 1.11618813e-03,\n",
       "       6.91995816e-03, 5.13089581e-05, 4.98073362e-03, 2.99186585e-03,\n",
       "       7.55261118e-03, 3.37308738e-03, 1.75984972e-03, 1.16484232e-04,\n",
       "       1.60312653e-03, 1.34441466e-03, 1.58969034e-03, 8.74743972e-04,\n",
       "       7.11655412e-06, 2.61102173e-07, 2.16853246e-03, 7.46048521e-03,\n",
       "       1.30777917e-04, 6.93005463e-03, 7.05440016e-03, 1.27128698e-03,\n",
       "       2.11094902e-03, 2.90874392e-03, 1.24404556e-03, 3.80224752e-04,\n",
       "       8.71623307e-03, 3.76760523e-04, 3.69511363e-05, 1.76048186e-02,\n",
       "       1.52726639e-02, 1.90857556e-02, 2.70795897e-02, 4.48204437e-03,\n",
       "       3.15514603e-03, 4.29072557e-03, 2.12985137e-03, 8.11628124e-04,\n",
       "       5.33502083e-04, 4.30456176e-03, 7.82887824e-03, 3.55984288e-04,\n",
       "       7.96024781e-03, 8.85633985e-04, 5.83411427e-03, 5.22874587e-04,\n",
       "       6.20729290e-03, 3.86536092e-04, 3.45806917e-03, 4.65835445e-03,\n",
       "       1.68486004e-05, 1.55009981e-02, 4.94414615e-03, 3.66018200e-03,\n",
       "       8.73884244e-04, 6.16042933e-04, 1.65911950e-02, 1.46981440e-02,\n",
       "       1.35719068e-02, 6.72594178e-03, 7.50058936e-03, 6.27375208e-04,\n",
       "       1.99228013e-03, 2.44240277e-04, 1.42594974e-03, 1.62282486e-05,\n",
       "       7.44871516e-03, 2.55708059e-04, 1.01151541e-04, 2.51378457e-04,\n",
       "       4.84829815e-03, 1.48702413e-02, 1.07928610e-03, 1.36404240e-03,\n",
       "       3.41669773e-03, 8.56210187e-04, 3.10712773e-03, 1.41751056e-03,\n",
       "       1.64721766e-03, 1.87217339e-03, 3.34338704e-03, 1.30391326e-02,\n",
       "       1.20358430e-02, 1.37371374e-02, 7.58504495e-04, 4.60299570e-03,\n",
       "       1.30674327e-02, 2.66983211e-02, 7.37219176e-04, 4.39151889e-03,\n",
       "       3.93565075e-04, 1.62430736e-03, 2.65030935e-03, 5.18590852e-04,\n",
       "       1.01928099e-03, 8.34531500e-04, 8.06839438e-04, 5.25009818e-04,\n",
       "       5.42598311e-03, 3.64977703e-03, 3.73567385e-03, 8.21700413e-03,\n",
       "       2.27106083e-03, 2.53833886e-02, 4.01993468e-03, 2.02455707e-02,\n",
       "       1.17326193e-02, 6.50177943e-04, 4.08891974e-05, 1.30123936e-03,\n",
       "       8.37935891e-04, 3.18945735e-03, 1.77363039e-03, 9.10945702e-03,\n",
       "       2.87250476e-03, 7.53008411e-04, 3.35405418e-03, 2.59661954e-03,\n",
       "       4.54244250e-03, 9.79345758e-03, 1.64093114e-02, 2.27854983e-03,\n",
       "       4.54671681e-06, 4.71926481e-03, 1.31699874e-03, 8.46209179e-04,\n",
       "       4.58363123e-04, 1.01224817e-02, 3.85761581e-04, 6.97156228e-03,\n",
       "       1.86241418e-03, 4.39773925e-04, 3.75529344e-04, 1.06549182e-03,\n",
       "       1.65952847e-03, 3.29156144e-04, 1.29820220e-02, 3.72342602e-03,\n",
       "       2.93268403e-03, 8.07114784e-03, 7.51732849e-04, 9.71847912e-04,\n",
       "       1.33623357e-03, 5.67972544e-04, 9.22166160e-04, 4.12633084e-03,\n",
       "       9.35131684e-03, 4.14877851e-03, 2.22753151e-04, 2.40059657e-04,\n",
       "       5.65621117e-03, 2.04891320e-02, 8.60275701e-03, 8.67801998e-03,\n",
       "       4.49291244e-03, 5.03292214e-03, 1.14117959e-03, 1.68481679e-03,\n",
       "       3.94378835e-03, 1.86351873e-02, 1.59546677e-02, 4.02331864e-03,\n",
       "       1.37459468e-02, 1.51997292e-02, 7.51260063e-03, 4.71729174e-04,\n",
       "       2.94871861e-03, 8.77751969e-03, 3.44578642e-03, 1.17367161e-02,\n",
       "       2.09378395e-02, 4.23831400e-03, 1.15951919e-03, 2.45171395e-04,\n",
       "       1.51143511e-04, 9.04670637e-03, 1.17252651e-03, 4.41424623e-02,\n",
       "       8.07180908e-03, 3.38047859e-03, 5.57294078e-02, 5.24280174e-03,\n",
       "       5.71890734e-02, 3.03417027e-01, 2.01007118e-03, 2.45726779e-02,\n",
       "       1.06139958e-03, 4.53159492e-03, 7.44620850e-03, 1.99550241e-02,\n",
       "       8.27474578e-04, 1.88886505e-02, 2.19370462e-02, 5.26672578e-04,\n",
       "       8.49457283e-04, 6.37359452e-03, 8.21420341e-04, 5.15040150e-03,\n",
       "       8.41682497e-03, 3.61189572e-03, 7.89994467e-03, 9.33238585e-03,\n",
       "       1.02125702e-03, 1.08714523e-02, 2.10965495e-03, 4.74687287e-04,\n",
       "       1.47980545e-02, 1.07330072e-03, 8.34407401e-04, 1.38401007e-02,\n",
       "       1.04895504e-02, 7.96621433e-04, 1.33858323e-02, 1.09769229e-04,\n",
       "       1.60698465e-03, 3.82363424e-02, 5.04609663e-03, 1.60709640e-03,\n",
       "       4.23063291e-03, 4.04642313e-04, 5.93854068e-03, 3.78333703e-02,\n",
       "       1.82517320e-02, 1.77676789e-02, 1.67910475e-02, 3.79412286e-02,\n",
       "       1.65882462e-03, 3.18322051e-03, 1.30373961e-03, 1.75632183e-02,\n",
       "       1.86946299e-02, 9.93942725e-04, 2.71023735e-02, 8.35678168e-03,\n",
       "       1.29145393e-02, 1.62312016e-02, 1.57331433e-02, 1.31140435e-02,\n",
       "       8.49506631e-03, 2.43077148e-02, 2.10462734e-02, 1.71384420e-02,\n",
       "       3.50408070e-02, 3.68844310e-04, 2.09120307e-02, 1.73110198e-02,\n",
       "       1.45935798e-02, 2.06299499e-02, 6.00056956e-03, 1.24424212e-02,\n",
       "       1.71119254e-02, 2.41052210e-02, 1.34005006e-02, 3.04895043e-02,\n",
       "       6.84603024e-03, 1.81721244e-02, 3.06665152e-02, 3.39241028e-02,\n",
       "       1.56988222e-02, 2.85378192e-02, 1.60830189e-02, 3.92308757e-02,\n",
       "       1.79979727e-02, 3.10526267e-02, 4.29950794e-03, 1.31719504e-02,\n",
       "       3.23487371e-02, 2.20728070e-02, 8.41867924e-03, 1.29716564e-02,\n",
       "       1.34315146e-02, 7.11344276e-03, 1.24688381e-02, 1.70036070e-02,\n",
       "       3.36591452e-02, 1.22441817e-02, 1.74195357e-02, 8.94831307e-03,\n",
       "       1.20246168e-02, 2.41507776e-02, 2.18233000e-02, 2.22434197e-02,\n",
       "       1.76871456e-02, 1.86952017e-02], dtype=float32)"
      ]
     },
     "execution_count": 34,
     "metadata": {},
     "output_type": "execute_result"
    }
   ],
   "source": [
    "y_pred[1]"
   ]
  },
  {
   "cell_type": "code",
   "execution_count": 33,
   "metadata": {},
   "outputs": [
    {
     "data": {
      "text/plain": [
       "array([0, 0, 0, 0, 0, 0, 0, 0, 0, 0, 0, 0, 0, 0, 0, 0, 0, 0, 0, 0, 0, 0,\n",
       "       0, 0, 0, 0, 0, 0, 0, 0, 0, 0, 0, 0, 0, 0, 0, 0, 0, 0, 0, 0, 0, 0,\n",
       "       0, 0, 0, 0, 0, 0, 0, 0, 0, 0, 0, 0, 0, 0, 0, 0, 0, 0, 0, 0, 0, 0,\n",
       "       0, 0, 0, 0, 0, 0, 0, 0, 0, 0, 0, 0, 0, 0, 0, 0, 0, 0, 0, 0, 0, 0,\n",
       "       0, 0, 0, 0, 0, 0, 0, 0, 0, 0, 0, 0, 0, 0, 0, 0, 0, 0, 0, 0, 0, 0,\n",
       "       0, 0, 0, 0, 0, 0, 0, 0, 0, 0, 0, 0, 0, 0, 0, 0, 0, 0, 0, 0, 0, 0,\n",
       "       0, 0, 0, 0, 0, 0, 0, 0, 0, 0, 0, 0, 0, 0, 0, 0, 0, 0, 0, 0, 0, 0,\n",
       "       0, 0, 0, 0, 0, 0, 0, 0, 0, 0, 0, 0, 0, 0, 0, 0, 0, 0, 0, 0, 0, 0,\n",
       "       0, 0, 0, 0, 0, 0, 0, 0, 0, 0, 0, 0, 0, 0, 0, 0, 0, 0, 0, 0, 0, 0,\n",
       "       0, 0, 0, 0, 0, 0, 0, 0, 0, 0, 0, 0, 0, 0, 0, 0, 0, 0, 0, 0, 0, 0,\n",
       "       0, 0, 0, 0, 0, 0, 0, 0, 0, 0, 0, 0, 0, 0, 0, 0, 0, 0, 0, 0, 0, 0,\n",
       "       0, 0, 0, 0, 0, 0, 0, 0, 0, 0, 0, 0, 0, 0, 0, 0, 0, 0, 0, 0, 0, 0,\n",
       "       0, 0, 0, 0, 0, 0, 0, 0, 0, 0, 0, 0, 0, 0, 0, 0, 0, 0, 0, 0, 0, 0,\n",
       "       0, 0, 0, 0, 0, 0, 0, 0, 0, 0, 0, 0, 0, 0, 0, 0, 0, 0, 0, 0, 0, 0,\n",
       "       0, 0, 0, 0, 0, 0, 0, 0, 0, 0, 0, 0, 0, 0, 0, 0, 0, 0, 0, 0, 0, 0,\n",
       "       0, 0, 0, 0, 0, 0, 0, 0, 0, 0, 0, 0, 0, 0, 0, 0, 0, 0, 0, 0, 0, 0,\n",
       "       0, 0, 0, 0, 0, 0, 0, 0, 0, 0, 0, 0, 0, 0, 0, 0, 0, 0, 0, 0, 0, 0,\n",
       "       0, 0, 0, 0, 0, 0, 0, 0, 0, 0, 0, 0, 0, 0, 0, 0, 0, 0, 0, 0, 0, 0,\n",
       "       0, 0, 0, 0, 0, 0, 0, 0, 0, 0, 0, 0, 0, 0, 0, 0, 0, 0, 0, 0, 0, 0,\n",
       "       0, 0, 0, 0, 0, 0, 0, 0, 0, 0, 0, 0, 0, 0, 0, 0, 0, 0, 0, 0, 0, 0,\n",
       "       0, 0, 0, 0, 0, 0, 0, 0, 0, 0, 0, 0, 0, 0, 0, 0, 0, 0, 0, 0, 0, 0,\n",
       "       0, 0, 0, 0, 0, 0, 0, 0, 0, 0, 0, 0, 0, 0, 0, 0, 0, 0, 0, 0, 0, 0,\n",
       "       0, 0, 0, 0, 0, 0, 0, 0, 0, 0, 0, 0, 0, 0, 0, 0, 0, 0, 0, 0, 0, 0,\n",
       "       0, 0, 0, 0, 0, 0, 0, 0, 0, 0, 0, 0, 0, 0, 0, 0, 0, 0, 0, 0, 0, 0,\n",
       "       0, 0, 0, 0, 0, 0, 0, 0, 0, 0, 0, 0, 0, 0, 0, 0, 0, 0, 0, 0, 0, 0,\n",
       "       0, 0, 0, 0, 0, 0, 0, 0, 0, 0, 0, 0, 0, 0, 0, 0, 0, 0, 0, 0, 0, 0,\n",
       "       0, 0, 0, 0, 0, 0, 0, 0, 0, 0, 0, 0, 0, 0, 0, 0, 0, 0, 0, 0, 0, 0,\n",
       "       0, 0, 0, 0, 0, 0, 0, 0, 0, 0, 0, 0, 0, 0, 0, 0, 0, 0, 0, 0, 0, 0,\n",
       "       0, 0, 0, 0, 0, 0, 0, 0, 0, 0, 0, 0, 0, 0, 0, 0, 0, 0, 0, 0, 0, 0,\n",
       "       0, 0, 0, 0, 0, 0, 0, 1, 0, 0, 0, 0, 0, 0, 0, 1, 0, 0, 0, 0, 0, 1,\n",
       "       0, 0, 0, 0, 0, 0, 0, 0, 0, 0, 0, 0, 0, 0, 0, 0, 0, 0, 0, 0, 0, 0,\n",
       "       0, 0, 0, 1, 0, 0, 0, 0], dtype=uint8)"
      ]
     },
     "execution_count": 33,
     "metadata": {},
     "output_type": "execute_result"
    }
   ],
   "source": [
    "y_test[1]"
   ]
  },
  {
   "cell_type": "code",
   "execution_count": 37,
   "metadata": {},
   "outputs": [
    {
     "name": "stderr",
     "output_type": "stream",
     "text": [
      "2023-06-23 19:59:21.247301: I tensorflow/core/common_runtime/executor.cc:1197] [/device:CPU:0] (DEBUG INFO) Executor start aborting (this does not indicate an error and you can ignore this message): INVALID_ARGUMENT: You must feed a value for placeholder tensor 'gradients/split_2_grad/concat/split_2/split_dim' with dtype int32\n",
      "\t [[{{node gradients/split_2_grad/concat/split_2/split_dim}}]]\n",
      "2023-06-23 19:59:21.249449: I tensorflow/core/common_runtime/executor.cc:1197] [/device:CPU:0] (DEBUG INFO) Executor start aborting (this does not indicate an error and you can ignore this message): INVALID_ARGUMENT: You must feed a value for placeholder tensor 'gradients/split_grad/concat/split/split_dim' with dtype int32\n",
      "\t [[{{node gradients/split_grad/concat/split/split_dim}}]]\n",
      "2023-06-23 19:59:21.250983: I tensorflow/core/common_runtime/executor.cc:1197] [/device:CPU:0] (DEBUG INFO) Executor start aborting (this does not indicate an error and you can ignore this message): INVALID_ARGUMENT: You must feed a value for placeholder tensor 'gradients/split_1_grad/concat/split_1/split_dim' with dtype int32\n",
      "\t [[{{node gradients/split_1_grad/concat/split_1/split_dim}}]]\n"
     ]
    },
    {
     "name": "stdout",
     "output_type": "stream",
     "text": [
      " 1/32 [..............................] - ETA: 23s - loss: 0.0000e+00"
     ]
    },
    {
     "name": "stderr",
     "output_type": "stream",
     "text": [
      "2023-06-23 19:59:21.484352: I tensorflow/core/common_runtime/executor.cc:1197] [/device:CPU:0] (DEBUG INFO) Executor start aborting (this does not indicate an error and you can ignore this message): INVALID_ARGUMENT: You must feed a value for placeholder tensor 'gradients/ReverseV2_grad/ReverseV2/ReverseV2/axis' with dtype int32 and shape [1]\n",
      "\t [[{{node gradients/ReverseV2_grad/ReverseV2/ReverseV2/axis}}]]\n",
      "2023-06-23 19:59:21.561838: I tensorflow/core/common_runtime/executor.cc:1197] [/device:CPU:0] (DEBUG INFO) Executor start aborting (this does not indicate an error and you can ignore this message): INVALID_ARGUMENT: You must feed a value for placeholder tensor 'gradients/split_2_grad/concat/split_2/split_dim' with dtype int32\n",
      "\t [[{{node gradients/split_2_grad/concat/split_2/split_dim}}]]\n",
      "2023-06-23 19:59:21.563618: I tensorflow/core/common_runtime/executor.cc:1197] [/device:CPU:0] (DEBUG INFO) Executor start aborting (this does not indicate an error and you can ignore this message): INVALID_ARGUMENT: You must feed a value for placeholder tensor 'gradients/split_grad/concat/split/split_dim' with dtype int32\n",
      "\t [[{{node gradients/split_grad/concat/split/split_dim}}]]\n",
      "2023-06-23 19:59:21.565300: I tensorflow/core/common_runtime/executor.cc:1197] [/device:CPU:0] (DEBUG INFO) Executor start aborting (this does not indicate an error and you can ignore this message): INVALID_ARGUMENT: You must feed a value for placeholder tensor 'gradients/split_1_grad/concat/split_1/split_dim' with dtype int32\n",
      "\t [[{{node gradients/split_1_grad/concat/split_1/split_dim}}]]\n"
     ]
    },
    {
     "name": "stdout",
     "output_type": "stream",
     "text": [
      "32/32 [==============================] - 1s 971us/step - loss: 0.0000e+00\n"
     ]
    },
    {
     "data": {
      "text/plain": [
       "0.0"
      ]
     },
     "execution_count": 37,
     "metadata": {},
     "output_type": "execute_result"
    }
   ],
   "source": [
    "from keras.metrics.confusion_metrics import"
   ]
  },
  {
   "cell_type": "code",
   "execution_count": 1,
   "metadata": {},
   "outputs": [],
   "source": [
    "from keras.losses import CategoricalCrossentropy"
   ]
  },
  {
   "cell_type": "code",
   "execution_count": 2,
   "metadata": {},
   "outputs": [],
   "source": [
    "loss = CategoricalCrossentropy()"
   ]
  },
  {
   "cell_type": "code",
   "execution_count": 3,
   "metadata": {},
   "outputs": [
    {
     "ename": "NameError",
     "evalue": "name 'y_test' is not defined",
     "output_type": "error",
     "traceback": [
      "\u001b[0;31m---------------------------------------------------------------------------\u001b[0m",
      "\u001b[0;31mNameError\u001b[0m                                 Traceback (most recent call last)",
      "Cell \u001b[0;32mIn[3], line 1\u001b[0m\n\u001b[0;32m----> 1\u001b[0m loss(y_test, y_pred)\n",
      "\u001b[0;31mNameError\u001b[0m: name 'y_test' is not defined"
     ]
    }
   ],
   "source": [
    "loss(y_test, y_pred)"
   ]
  }
 ],
 "metadata": {
  "kernelspec": {
   "display_name": "Python 3",
   "language": "python",
   "name": "python3"
  },
  "language_info": {
   "codemirror_mode": {
    "name": "ipython",
    "version": 3
   },
   "file_extension": ".py",
   "mimetype": "text/x-python",
   "name": "python",
   "nbconvert_exporter": "python",
   "pygments_lexer": "ipython3",
   "version": "3.11.1"
  },
  "orig_nbformat": 4
 },
 "nbformat": 4,
 "nbformat_minor": 2
}
