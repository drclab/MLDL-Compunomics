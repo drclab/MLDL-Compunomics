{
 "cells": [
  {
   "attachments": {},
   "cell_type": "markdown",
   "metadata": {},
   "source": [
    "###  The most important type of sequential data is the time series data, which is a series of data points listed in time order. This data is key for applications such as speech recognition, sentiment analysis, language translation, and so on."
   ]
  },
  {
   "attachments": {},
   "cell_type": "markdown",
   "metadata": {},
   "source": [
    "The field of genomics, which consists of the most natural language ever – a sequence of nucleotides (A, G, C, and T) – is very well suited for RNNs applications, such as for predicting proteins from DNA sequences, predicting the binding domains of proteins, predicting the interaction between enhancers and promoters, predicting structural motifs, predicting base calls from sequencing instruments, optimizing coding sequences for increased protein production, predicting function, and so on. In this chapter, you will learn what RNNs are, how they are different from FNNs and CNNs, and how they are better suited for sequential data. By the end of this chapter, you will understand what RNNs are and why they are important in DL, the different types of RNN architectures and when to use what, and the different RNN applications in genomics."
   ]
  },
  {
   "attachments": {},
   "cell_type": "markdown",
   "metadata": {},
   "source": [
    "![](https://learning.oreilly.com/api/v2/epubs/urn:orm:book:9781804615447/files/image/B18958_06_001.jpg)"
   ]
  },
  {
   "attachments": {},
   "cell_type": "markdown",
   "metadata": {},
   "source": [
    "![](https://learning.oreilly.com/api/v2/epubs/urn:orm:book:9781804615447/files/image/B18958_06_002.jpg)"
   ]
  },
  {
   "attachments": {},
   "cell_type": "markdown",
   "metadata": {},
   "source": [
    "![](https://learning.oreilly.com/api/v2/epubs/urn:orm:book:9781804615447/files/image/B18958_06_003.jpg)"
   ]
  },
  {
   "attachments": {},
   "cell_type": "markdown",
   "metadata": {},
   "source": [
    "![](https://learning.oreilly.com/api/v2/epubs/urn:orm:book:9781804615447/files/image/B18958_06_004.jpg)"
   ]
  },
  {
   "attachments": {},
   "cell_type": "markdown",
   "metadata": {},
   "source": [
    "Another good way of illustrating how RNNs work is to explain it with an example: Imagine you have a standard FNN and give it a DNA sequence (ATGCGAG) and it processes one nucleotide at a time but by the time it reaches the last nucleotide (in this example ‘G’) it has forgotten everything about other nucleotides ‘A’, ‘T’, ‘G’, ‘C’, ‘G’, ‘A’ and FNN can't predict what nucleotide would come next. This information is important for sequential data such as DNA sequences because there is a structure to the sequence"
   ]
  },
  {
   "attachments": {},
   "cell_type": "markdown",
   "metadata": {},
   "source": [
    "##### Understanding RNNs through Transcription Factor Binding Site (TFBS) predictions Transcription factors (TF) play a key role in gene regulation, particularly during transcription, where they bind to the promoter regions and initiate the process of transcription. Transcription Factor Binding Sites (TFBSs) in DNA are short sequences in gene regulatory regions (such as promoters) and typically range in size from 5 bp to 20 bp. Each TF binds to a different TFBS and controls gene regulation in the cell. Thus, identifying the TF binding sites is key for us to understand cellular and molecular processes. Several experimental methods can identify TFBSs, such as ChIP-Seq technologies and databases such as ENCODE, which have made TFBS information available to researchers. However, ChIP-Seq technologies are expensive, slow, and laborious, and cannot find patterns in the identified TFBS. Several computational methods have become the go-to for solving this very important problem of identifying TFBSs. Given a particular sequence, predicting whether it is a TFBS or not is the core task of bioinformatics. In the following toy example, let’s see how we can use RNNs to predict a TFBS from DNA sequences. The problem of TFBS can be thought of as a binary classification problem – that is, whether the TFBS can be found in a DNA sequence or not, which we represent as 1 or 0, respectively. The input to the RNN model is the input DNA sequences and their targets, which have labels of 1 or 0. The goal here is to build a highly accurate classification model using an RNN that can be used to"
   ]
  },
  {
   "attachments": {},
   "cell_type": "markdown",
   "metadata": {},
   "source": [
    "![](https://learning.oreilly.com/api/v2/epubs/urn:orm:book:9781804615447/files/image/B18958_06_015.jpg)"
   ]
  },
  {
   "attachments": {},
   "cell_type": "markdown",
   "metadata": {},
   "source": [
    "##### As shown in Figure 6.15, samples 1 to 3 consist of positive TFBSs (label=1), where the DNA sequences consist of TFBSs, whereas samples 4 and 5 are negative (label=0):\n",
    "\n",
    "- The first thing we must do is convert DNA sequence into a one-hot encoding vector. To refresh your memory, a one-hot encoding vector converts each nucleotide of the DNA sequence into a binary vector, labeled 0 or 1.\n",
    "- After the input is fed into the RNN, it produces another matrix. As we just learned, at each timestamp, the RNN takes an input vector and the previously hidden state vector and produces the new hidden state recursively. In this case, each position in the sequence is a timestamp. At the end of the training process, the RNN produces an output vector at the timestamp of the input sequence (Figure 6.16).\n",
    "- Then, the output vector from the RNN is fed into a softmax activation function in the last layer of the network, which learns the mapping between the hidden space and the target label (0 or 1). The final output is a probability that indicates whether the DNA sequence is a TFBS or a non-TFBS.\n",
    "Like other FNNs and RNNs, we calculate the loss (cross-entropy loss) and then the model is trained until the network generates low or no loss. This minimization of the loss function is achieved using the BPTT algorithm. We can use dropout as a regularization method for the model to prevent overfitting:"
   ]
  },
  {
   "attachments": {},
   "cell_type": "markdown",
   "metadata": {},
   "source": [
    "![](https://learning.oreilly.com/api/v2/epubs/urn:orm:book:9781804615447/files/image/B18958_06_016.jpg)"
   ]
  },
  {
   "attachments": {},
   "cell_type": "markdown",
   "metadata": {},
   "source": [
    "The human reference genome was first divided into 200 bp non-overlapping segments\n",
    "For each of the 690 ChIP-seq experiments, if 100 bp-200 bp segments belonged to a peak, it was classified as positive (label=1); otherwise, it was classified as negative (label=0)\n",
    "800 bp (400 bp on either side) sequences was addede to both sides of the 200 bp segment to create a 1,000 bp input sequence"
   ]
  },
  {
   "attachments": {},
   "cell_type": "markdown",
   "metadata": {},
   "source": [
    "- After feeding input to the network through the input layer, the next layer will be a CNN. You might be wondering why we are using a CNN since the goal is to leverage an RNN for a genomics problem. This is because the CNN layer acts as a motif scanner, as we learned in the previous chapter.\n",
    "- The output from the CNN is fed into the BiLSTM layer. The output from the BiLSTM layer is then flattened and fed into a fully connected layer.\n",
    "- In the output layer of the network, a sigmoid function is applied. The final output is a 690-dimensional vector, where each element corresponds to the ChIP-seq experiment."
   ]
  },
  {
   "cell_type": "code",
   "execution_count": 1,
   "metadata": {},
   "outputs": [],
   "source": [
    "import numpy as np\n",
    "from sklearn import metrics\n",
    "import pandas as pd"
   ]
  },
  {
   "cell_type": "code",
   "execution_count": 2,
   "metadata": {},
   "outputs": [],
   "source": [
    "X_train = np.load('../Chapter06/data/X_train.npy.zip')['X_train']\n",
    "y_train = np.load('../Chapter06/data/y_train.npy.zip')['y_train']"
   ]
  },
  {
   "cell_type": "code",
   "execution_count": 3,
   "metadata": {},
   "outputs": [
    {
     "data": {
      "text/plain": [
       "(10000, 1000, 4)"
      ]
     },
     "execution_count": 3,
     "metadata": {},
     "output_type": "execute_result"
    }
   ],
   "source": [
    "X_train.shape"
   ]
  },
  {
   "cell_type": "code",
   "execution_count": 4,
   "metadata": {},
   "outputs": [
    {
     "data": {
      "text/plain": [
       "(10000, 690)"
      ]
     },
     "execution_count": 4,
     "metadata": {},
     "output_type": "execute_result"
    }
   ],
   "source": [
    "y_train.shape"
   ]
  },
  {
   "cell_type": "code",
   "execution_count": 5,
   "metadata": {},
   "outputs": [],
   "source": [
    "X_test = np.load('../Chapter06/data/X_test.npy.zip')['X_test']\n",
    "y_test = np.load('../Chapter06/data/y_test.npy.zip')['y_test']"
   ]
  },
  {
   "cell_type": "code",
   "execution_count": 6,
   "metadata": {},
   "outputs": [
    {
     "data": {
      "text/plain": [
       "(1000, 1000, 4)"
      ]
     },
     "execution_count": 6,
     "metadata": {},
     "output_type": "execute_result"
    }
   ],
   "source": [
    "X_test.shape"
   ]
  },
  {
   "cell_type": "code",
   "execution_count": 7,
   "metadata": {},
   "outputs": [
    {
     "data": {
      "text/plain": [
       "(1000, 690)"
      ]
     },
     "execution_count": 7,
     "metadata": {},
     "output_type": "execute_result"
    }
   ],
   "source": [
    "y_test.shape"
   ]
  },
  {
   "cell_type": "code",
   "execution_count": 2,
   "metadata": {},
   "outputs": [
    {
     "name": "stderr",
     "output_type": "stream",
     "text": [
      "2023-06-24 08:05:17.852552: I tensorflow/core/platform/cpu_feature_guard.cc:193] This TensorFlow binary is optimized with oneAPI Deep Neural Network Library (oneDNN) to use the following CPU instructions in performance-critical operations:  AVX2 FMA\n",
      "To enable them in other operations, rebuild TensorFlow with the appropriate compiler flags.\n",
      "2023-06-24 08:05:20.189564: W tensorflow/compiler/xla/stream_executor/platform/default/dso_loader.cc:64] Could not load dynamic library 'libcudart.so.11.0'; dlerror: libcudart.so.11.0: cannot open shared object file: No such file or directory\n",
      "2023-06-24 08:05:20.189630: I tensorflow/compiler/xla/stream_executor/cuda/cudart_stub.cc:29] Ignore above cudart dlerror if you do not have a GPU set up on your machine.\n",
      "2023-06-24 08:05:27.021139: W tensorflow/compiler/xla/stream_executor/platform/default/dso_loader.cc:64] Could not load dynamic library 'libnvinfer.so.7'; dlerror: libnvinfer.so.7: cannot open shared object file: No such file or directory\n",
      "2023-06-24 08:05:27.021474: W tensorflow/compiler/xla/stream_executor/platform/default/dso_loader.cc:64] Could not load dynamic library 'libnvinfer_plugin.so.7'; dlerror: libnvinfer_plugin.so.7: cannot open shared object file: No such file or directory\n",
      "2023-06-24 08:05:27.021493: W tensorflow/compiler/tf2tensorrt/utils/py_utils.cc:38] TF-TRT Warning: Cannot dlopen some TensorRT libraries. If you would like to use Nvidia GPU with TensorRT, please make sure the missing libraries mentioned above are installed properly.\n"
     ]
    }
   ],
   "source": [
    "from keras.models import Sequential\n",
    "from keras.models import Model\n",
    "from keras.layers import Dense, Dropout, Activation, Flatten, Layer, Input\n",
    "from keras.layers.convolutional import Conv1D, MaxPooling1D\n",
    "from keras.layers import LSTM\n",
    "from keras.layers import Bidirectional\n",
    "from keras.callbacks import ModelCheckpoint, EarlyStopping"
   ]
  },
  {
   "cell_type": "code",
   "execution_count": 9,
   "metadata": {},
   "outputs": [],
   "source": [
    "input_data = Input(shape=(1000,4))"
   ]
  },
  {
   "cell_type": "code",
   "execution_count": 10,
   "metadata": {},
   "outputs": [],
   "source": [
    "output = Conv1D(320, kernel_size=26, activation='relu')(input_data)\n",
    "output = MaxPooling1D()(output)\n",
    "output = Dropout(0.2)(output)"
   ]
  },
  {
   "cell_type": "code",
   "execution_count": 11,
   "metadata": {},
   "outputs": [
    {
     "name": "stderr",
     "output_type": "stream",
     "text": [
      "2023-06-23 19:06:37.825081: I tensorflow/core/common_runtime/executor.cc:1197] [/device:CPU:0] (DEBUG INFO) Executor start aborting (this does not indicate an error and you can ignore this message): INVALID_ARGUMENT: You must feed a value for placeholder tensor 'gradients/split_2_grad/concat/split_2/split_dim' with dtype int32\n",
      "\t [[{{node gradients/split_2_grad/concat/split_2/split_dim}}]]\n",
      "2023-06-23 19:06:37.826189: I tensorflow/core/common_runtime/executor.cc:1197] [/device:CPU:0] (DEBUG INFO) Executor start aborting (this does not indicate an error and you can ignore this message): INVALID_ARGUMENT: You must feed a value for placeholder tensor 'gradients/split_grad/concat/split/split_dim' with dtype int32\n",
      "\t [[{{node gradients/split_grad/concat/split/split_dim}}]]\n",
      "2023-06-23 19:06:37.827534: I tensorflow/core/common_runtime/executor.cc:1197] [/device:CPU:0] (DEBUG INFO) Executor start aborting (this does not indicate an error and you can ignore this message): INVALID_ARGUMENT: You must feed a value for placeholder tensor 'gradients/split_1_grad/concat/split_1/split_dim' with dtype int32\n",
      "\t [[{{node gradients/split_1_grad/concat/split_1/split_dim}}]]\n",
      "2023-06-23 19:06:37.985181: I tensorflow/core/common_runtime/executor.cc:1197] [/device:CPU:0] (DEBUG INFO) Executor start aborting (this does not indicate an error and you can ignore this message): INVALID_ARGUMENT: You must feed a value for placeholder tensor 'gradients/ReverseV2_grad/ReverseV2/ReverseV2/axis' with dtype int32 and shape [1]\n",
      "\t [[{{node gradients/ReverseV2_grad/ReverseV2/ReverseV2/axis}}]]\n",
      "2023-06-23 19:06:38.034793: I tensorflow/core/common_runtime/executor.cc:1197] [/device:CPU:0] (DEBUG INFO) Executor start aborting (this does not indicate an error and you can ignore this message): INVALID_ARGUMENT: You must feed a value for placeholder tensor 'gradients/split_2_grad/concat/split_2/split_dim' with dtype int32\n",
      "\t [[{{node gradients/split_2_grad/concat/split_2/split_dim}}]]\n",
      "2023-06-23 19:06:38.036423: I tensorflow/core/common_runtime/executor.cc:1197] [/device:CPU:0] (DEBUG INFO) Executor start aborting (this does not indicate an error and you can ignore this message): INVALID_ARGUMENT: You must feed a value for placeholder tensor 'gradients/split_grad/concat/split/split_dim' with dtype int32\n",
      "\t [[{{node gradients/split_grad/concat/split/split_dim}}]]\n",
      "2023-06-23 19:06:38.038036: I tensorflow/core/common_runtime/executor.cc:1197] [/device:CPU:0] (DEBUG INFO) Executor start aborting (this does not indicate an error and you can ignore this message): INVALID_ARGUMENT: You must feed a value for placeholder tensor 'gradients/split_1_grad/concat/split_1/split_dim' with dtype int32\n",
      "\t [[{{node gradients/split_1_grad/concat/split_1/split_dim}}]]\n"
     ]
    }
   ],
   "source": [
    "output = Bidirectional(LSTM(320, return_sequences=True))(output)\n",
    "output = Dropout(0.5)(output)"
   ]
  },
  {
   "cell_type": "code",
   "execution_count": 12,
   "metadata": {},
   "outputs": [],
   "source": [
    "flat_output = Flatten()(output)"
   ]
  },
  {
   "cell_type": "code",
   "execution_count": 13,
   "metadata": {},
   "outputs": [],
   "source": [
    "FC_output = Dense(695)(flat_output)\n",
    "FC_output = Activation('relu')(FC_output)"
   ]
  },
  {
   "cell_type": "code",
   "execution_count": 14,
   "metadata": {},
   "outputs": [],
   "source": [
    "output = Dense(690)(FC_output)\n",
    "output = Activation('sigmoid')(output)"
   ]
  },
  {
   "cell_type": "code",
   "execution_count": 15,
   "metadata": {},
   "outputs": [],
   "source": [
    "model = Model(inputs=input_data, outputs=output)"
   ]
  },
  {
   "cell_type": "code",
   "execution_count": 16,
   "metadata": {},
   "outputs": [],
   "source": [
    "model.compile(loss='binary_crossentropy', optimizer='adam')"
   ]
  },
  {
   "cell_type": "code",
   "execution_count": 17,
   "metadata": {},
   "outputs": [
    {
     "name": "stdout",
     "output_type": "stream",
     "text": [
      "Model: \"model\"\n",
      "_________________________________________________________________\n",
      " Layer (type)                Output Shape              Param #   \n",
      "=================================================================\n",
      " input_1 (InputLayer)        [(None, 1000, 4)]         0         \n",
      "                                                                 \n",
      " conv1d (Conv1D)             (None, 975, 320)          33600     \n",
      "                                                                 \n",
      " max_pooling1d (MaxPooling1D  (None, 487, 320)         0         \n",
      " )                                                               \n",
      "                                                                 \n",
      " dropout (Dropout)           (None, 487, 320)          0         \n",
      "                                                                 \n",
      " bidirectional (Bidirectiona  (None, 487, 640)         1640960   \n",
      " l)                                                              \n",
      "                                                                 \n",
      " dropout_1 (Dropout)         (None, 487, 640)          0         \n",
      "                                                                 \n",
      " flatten (Flatten)           (None, 311680)            0         \n",
      "                                                                 \n",
      " dense (Dense)               (None, 695)               216618295 \n",
      "                                                                 \n",
      " activation (Activation)     (None, 695)               0         \n",
      "                                                                 \n",
      " dense_1 (Dense)             (None, 690)               480240    \n",
      "                                                                 \n",
      " activation_1 (Activation)   (None, 690)               0         \n",
      "                                                                 \n",
      "=================================================================\n",
      "Total params: 218,773,095\n",
      "Trainable params: 218,773,095\n",
      "Non-trainable params: 0\n",
      "_________________________________________________________________\n"
     ]
    }
   ],
   "source": [
    "model.summary()"
   ]
  },
  {
   "cell_type": "code",
   "execution_count": 18,
   "metadata": {},
   "outputs": [],
   "source": [
    "checkpoints = ModelCheckpoint(filepath='./model/bilstm_model.hdf5', verbose=1, save_best_only=False)\n",
    "earlystopper = EarlyStopping(monitor='val_loss', patience=10, verbose=1)"
   ]
  },
  {
   "cell_type": "code",
   "execution_count": 19,
   "metadata": {},
   "outputs": [
    {
     "name": "stdout",
     "output_type": "stream",
     "text": [
      "Epoch 1/2\n"
     ]
    },
    {
     "name": "stderr",
     "output_type": "stream",
     "text": [
      "2023-06-23 19:06:39.435022: I tensorflow/core/common_runtime/executor.cc:1197] [/device:CPU:0] (DEBUG INFO) Executor start aborting (this does not indicate an error and you can ignore this message): INVALID_ARGUMENT: You must feed a value for placeholder tensor 'gradients/split_2_grad/concat/split_2/split_dim' with dtype int32\n",
      "\t [[{{node gradients/split_2_grad/concat/split_2/split_dim}}]]\n",
      "2023-06-23 19:06:39.438897: I tensorflow/core/common_runtime/executor.cc:1197] [/device:CPU:0] (DEBUG INFO) Executor start aborting (this does not indicate an error and you can ignore this message): INVALID_ARGUMENT: You must feed a value for placeholder tensor 'gradients/split_grad/concat/split/split_dim' with dtype int32\n",
      "\t [[{{node gradients/split_grad/concat/split/split_dim}}]]\n",
      "2023-06-23 19:06:39.443003: I tensorflow/core/common_runtime/executor.cc:1197] [/device:CPU:0] (DEBUG INFO) Executor start aborting (this does not indicate an error and you can ignore this message): INVALID_ARGUMENT: You must feed a value for placeholder tensor 'gradients/split_1_grad/concat/split_1/split_dim' with dtype int32\n",
      "\t [[{{node gradients/split_1_grad/concat/split_1/split_dim}}]]\n",
      "2023-06-23 19:06:39.812006: I tensorflow/core/common_runtime/executor.cc:1197] [/device:CPU:0] (DEBUG INFO) Executor start aborting (this does not indicate an error and you can ignore this message): INVALID_ARGUMENT: You must feed a value for placeholder tensor 'gradients/ReverseV2_grad/ReverseV2/ReverseV2/axis' with dtype int32 and shape [1]\n",
      "\t [[{{node gradients/ReverseV2_grad/ReverseV2/ReverseV2/axis}}]]\n",
      "2023-06-23 19:06:39.895997: I tensorflow/core/common_runtime/executor.cc:1197] [/device:CPU:0] (DEBUG INFO) Executor start aborting (this does not indicate an error and you can ignore this message): INVALID_ARGUMENT: You must feed a value for placeholder tensor 'gradients/split_2_grad/concat/split_2/split_dim' with dtype int32\n",
      "\t [[{{node gradients/split_2_grad/concat/split_2/split_dim}}]]\n",
      "2023-06-23 19:06:39.897907: I tensorflow/core/common_runtime/executor.cc:1197] [/device:CPU:0] (DEBUG INFO) Executor start aborting (this does not indicate an error and you can ignore this message): INVALID_ARGUMENT: You must feed a value for placeholder tensor 'gradients/split_grad/concat/split/split_dim' with dtype int32\n",
      "\t [[{{node gradients/split_grad/concat/split/split_dim}}]]\n",
      "2023-06-23 19:06:39.899630: I tensorflow/core/common_runtime/executor.cc:1197] [/device:CPU:0] (DEBUG INFO) Executor start aborting (this does not indicate an error and you can ignore this message): INVALID_ARGUMENT: You must feed a value for placeholder tensor 'gradients/split_1_grad/concat/split_1/split_dim' with dtype int32\n",
      "\t [[{{node gradients/split_1_grad/concat/split_1/split_dim}}]]\n",
      "2023-06-23 19:06:40.462460: I tensorflow/core/common_runtime/executor.cc:1197] [/device:CPU:0] (DEBUG INFO) Executor start aborting (this does not indicate an error and you can ignore this message): INVALID_ARGUMENT: You must feed a value for placeholder tensor 'gradients/ReverseV2_grad/ReverseV2/ReverseV2/axis' with dtype int32 and shape [1]\n",
      "\t [[{{node gradients/ReverseV2_grad/ReverseV2/ReverseV2/axis}}]]\n",
      "2023-06-23 19:06:41.433726: I tensorflow/core/common_runtime/executor.cc:1197] [/device:CPU:0] (DEBUG INFO) Executor start aborting (this does not indicate an error and you can ignore this message): INVALID_ARGUMENT: You must feed a value for placeholder tensor 'gradients/split_2_grad/concat/split_2/split_dim' with dtype int32\n",
      "\t [[{{node gradients/split_2_grad/concat/split_2/split_dim}}]]\n",
      "2023-06-23 19:06:41.436995: I tensorflow/core/common_runtime/executor.cc:1197] [/device:CPU:0] (DEBUG INFO) Executor start aborting (this does not indicate an error and you can ignore this message): INVALID_ARGUMENT: You must feed a value for placeholder tensor 'gradients/split_grad/concat/split/split_dim' with dtype int32\n",
      "\t [[{{node gradients/split_grad/concat/split/split_dim}}]]\n",
      "2023-06-23 19:06:41.439434: I tensorflow/core/common_runtime/executor.cc:1197] [/device:CPU:0] (DEBUG INFO) Executor start aborting (this does not indicate an error and you can ignore this message): INVALID_ARGUMENT: You must feed a value for placeholder tensor 'gradients/split_1_grad/concat/split_1/split_dim' with dtype int32\n",
      "\t [[{{node gradients/split_1_grad/concat/split_1/split_dim}}]]\n",
      "2023-06-23 19:06:41.748909: I tensorflow/core/common_runtime/executor.cc:1197] [/device:CPU:0] (DEBUG INFO) Executor start aborting (this does not indicate an error and you can ignore this message): INVALID_ARGUMENT: You must feed a value for placeholder tensor 'gradients/ReverseV2_grad/ReverseV2/ReverseV2/axis' with dtype int32 and shape [1]\n",
      "\t [[{{node gradients/ReverseV2_grad/ReverseV2/ReverseV2/axis}}]]\n",
      "2023-06-23 19:06:41.835909: I tensorflow/core/common_runtime/executor.cc:1197] [/device:CPU:0] (DEBUG INFO) Executor start aborting (this does not indicate an error and you can ignore this message): INVALID_ARGUMENT: You must feed a value for placeholder tensor 'gradients/split_2_grad/concat/split_2/split_dim' with dtype int32\n",
      "\t [[{{node gradients/split_2_grad/concat/split_2/split_dim}}]]\n",
      "2023-06-23 19:06:41.837938: I tensorflow/core/common_runtime/executor.cc:1197] [/device:CPU:0] (DEBUG INFO) Executor start aborting (this does not indicate an error and you can ignore this message): INVALID_ARGUMENT: You must feed a value for placeholder tensor 'gradients/split_grad/concat/split/split_dim' with dtype int32\n",
      "\t [[{{node gradients/split_grad/concat/split/split_dim}}]]\n",
      "2023-06-23 19:06:41.839807: I tensorflow/core/common_runtime/executor.cc:1197] [/device:CPU:0] (DEBUG INFO) Executor start aborting (this does not indicate an error and you can ignore this message): INVALID_ARGUMENT: You must feed a value for placeholder tensor 'gradients/split_1_grad/concat/split_1/split_dim' with dtype int32\n",
      "\t [[{{node gradients/split_1_grad/concat/split_1/split_dim}}]]\n",
      "2023-06-23 19:06:42.401756: I tensorflow/core/common_runtime/executor.cc:1197] [/device:CPU:0] (DEBUG INFO) Executor start aborting (this does not indicate an error and you can ignore this message): INVALID_ARGUMENT: You must feed a value for placeholder tensor 'gradients/ReverseV2_grad/ReverseV2/ReverseV2/axis' with dtype int32 and shape [1]\n",
      "\t [[{{node gradients/ReverseV2_grad/ReverseV2/ReverseV2/axis}}]]\n"
     ]
    },
    {
     "name": "stdout",
     "output_type": "stream",
     "text": [
      "90/90 [==============================] - ETA: 0s - loss: 0.0814"
     ]
    },
    {
     "name": "stderr",
     "output_type": "stream",
     "text": [
      "2023-06-23 19:15:51.888663: I tensorflow/core/common_runtime/executor.cc:1197] [/device:CPU:0] (DEBUG INFO) Executor start aborting (this does not indicate an error and you can ignore this message): INVALID_ARGUMENT: You must feed a value for placeholder tensor 'gradients/split_2_grad/concat/split_2/split_dim' with dtype int32\n",
      "\t [[{{node gradients/split_2_grad/concat/split_2/split_dim}}]]\n",
      "2023-06-23 19:15:51.891809: I tensorflow/core/common_runtime/executor.cc:1197] [/device:CPU:0] (DEBUG INFO) Executor start aborting (this does not indicate an error and you can ignore this message): INVALID_ARGUMENT: You must feed a value for placeholder tensor 'gradients/split_grad/concat/split/split_dim' with dtype int32\n",
      "\t [[{{node gradients/split_grad/concat/split/split_dim}}]]\n",
      "2023-06-23 19:15:51.894646: I tensorflow/core/common_runtime/executor.cc:1197] [/device:CPU:0] (DEBUG INFO) Executor start aborting (this does not indicate an error and you can ignore this message): INVALID_ARGUMENT: You must feed a value for placeholder tensor 'gradients/split_1_grad/concat/split_1/split_dim' with dtype int32\n",
      "\t [[{{node gradients/split_1_grad/concat/split_1/split_dim}}]]\n",
      "2023-06-23 19:15:52.133145: I tensorflow/core/common_runtime/executor.cc:1197] [/device:CPU:0] (DEBUG INFO) Executor start aborting (this does not indicate an error and you can ignore this message): INVALID_ARGUMENT: You must feed a value for placeholder tensor 'gradients/ReverseV2_grad/ReverseV2/ReverseV2/axis' with dtype int32 and shape [1]\n",
      "\t [[{{node gradients/ReverseV2_grad/ReverseV2/ReverseV2/axis}}]]\n",
      "2023-06-23 19:15:52.211829: I tensorflow/core/common_runtime/executor.cc:1197] [/device:CPU:0] (DEBUG INFO) Executor start aborting (this does not indicate an error and you can ignore this message): INVALID_ARGUMENT: You must feed a value for placeholder tensor 'gradients/split_2_grad/concat/split_2/split_dim' with dtype int32\n",
      "\t [[{{node gradients/split_2_grad/concat/split_2/split_dim}}]]\n",
      "2023-06-23 19:15:52.214007: I tensorflow/core/common_runtime/executor.cc:1197] [/device:CPU:0] (DEBUG INFO) Executor start aborting (this does not indicate an error and you can ignore this message): INVALID_ARGUMENT: You must feed a value for placeholder tensor 'gradients/split_grad/concat/split/split_dim' with dtype int32\n",
      "\t [[{{node gradients/split_grad/concat/split/split_dim}}]]\n",
      "2023-06-23 19:15:52.216724: I tensorflow/core/common_runtime/executor.cc:1197] [/device:CPU:0] (DEBUG INFO) Executor start aborting (this does not indicate an error and you can ignore this message): INVALID_ARGUMENT: You must feed a value for placeholder tensor 'gradients/split_1_grad/concat/split_1/split_dim' with dtype int32\n",
      "\t [[{{node gradients/split_1_grad/concat/split_1/split_dim}}]]\n"
     ]
    },
    {
     "name": "stdout",
     "output_type": "stream",
     "text": [
      "\n",
      "Epoch 1: saving model to ./model/bilstm_model.hdf5\n",
      "90/90 [==============================] - 569s 6s/step - loss: 0.0814 - val_loss: 0.0585\n",
      "Epoch 2/2\n",
      "90/90 [==============================] - ETA: 0s - loss: 0.0603\n",
      "Epoch 2: saving model to ./model/bilstm_model.hdf5\n",
      "90/90 [==============================] - 664s 7s/step - loss: 0.0603 - val_loss: 0.0585\n"
     ]
    }
   ],
   "source": [
    "history = model.fit(X_train, y_train, batch_size=100, \n",
    "                    epochs=2, shuffle=True, verbose=1, validation_split=0.1, \n",
    "                    callbacks=[checkpoints,earlystopper])"
   ]
  },
  {
   "attachments": {},
   "cell_type": "markdown",
   "metadata": {},
   "source": [
    "##### RNNs are a special type of neural network that is well suited for sequential data such as time series, audio, video, and text. Research showed that RNNs have improved the performance of sequential data types when compared to other architectures such as FNNs and CNNs. The key to an RNN is the sequence memory state, which helps it store information from the previously analyzed state; this is good for sequential signal analysis and predictive analysis. In this chapter, we learned how RNNs are different from FNNs and CNNs. We understood the different types of RNNs and what makes them good for sequential data analysis by looking at a few examples. RNNs, as you may have noticed, are good for mapping a fixed or variable-sized input sequence to a fixed or variable-sized output; we have seen several examples to understand this.\n",
    "\n",
    "##### We also looked at how RNNs can help with genomics tasks and understood the different architectural types of RNNs. Bidirectional RNN, LSTM, and GRU are variants of RNNs that are capable of long-term associations, thereby retaining the information from an infinite sequence, which is very common in genomics. They address long-term dependencies.\n",
    "\n",
    "##### You were also introduced to the different RNN types and their applications in various domains, such as image captioning, language translation, and others. Finally, we looked at how RNNs are used to solve some of the key problems in genomics, such as TF binding site detection, miRNA-mRNA sequence modeling, gene expression analysis, histone modifications, base calling, and more. In the next chapter, we will look at another exciting neural network architecture called autoencoders, which has a lot of potential applications in genomics."
   ]
  },
  {
   "attachments": {},
   "cell_type": "markdown",
   "metadata": {},
   "source": [
    "___"
   ]
  },
  {
   "attachments": {},
   "cell_type": "markdown",
   "metadata": {},
   "source": [
    "### Test "
   ]
  },
  {
   "cell_type": "code",
   "execution_count": 3,
   "metadata": {},
   "outputs": [],
   "source": [
    "X_test = np.load('../Chapter06/data/X_test.npy.zip')['X_test']"
   ]
  },
  {
   "cell_type": "code",
   "execution_count": 4,
   "metadata": {},
   "outputs": [
    {
     "data": {
      "text/plain": [
       "(1000, 1000, 4)"
      ]
     },
     "execution_count": 4,
     "metadata": {},
     "output_type": "execute_result"
    }
   ],
   "source": [
    "X_test.shape"
   ]
  },
  {
   "cell_type": "code",
   "execution_count": 5,
   "metadata": {},
   "outputs": [],
   "source": [
    "y_test = np.load('../Chapter06/data/y_test.npy.zip')['y_test']"
   ]
  },
  {
   "cell_type": "code",
   "execution_count": 6,
   "metadata": {},
   "outputs": [
    {
     "data": {
      "text/plain": [
       "(1000, 690)"
      ]
     },
     "execution_count": 6,
     "metadata": {},
     "output_type": "execute_result"
    }
   ],
   "source": [
    "y_test.shape"
   ]
  },
  {
   "cell_type": "code",
   "execution_count": 7,
   "metadata": {},
   "outputs": [],
   "source": [
    "from keras.models import load_model"
   ]
  },
  {
   "cell_type": "code",
   "execution_count": 8,
   "metadata": {},
   "outputs": [
    {
     "name": "stderr",
     "output_type": "stream",
     "text": [
      "2023-06-24 08:05:58.967753: W tensorflow/compiler/xla/stream_executor/platform/default/dso_loader.cc:64] Could not load dynamic library 'libcuda.so.1'; dlerror: libcuda.so.1: cannot open shared object file: No such file or directory\n",
      "2023-06-24 08:05:58.975026: W tensorflow/compiler/xla/stream_executor/cuda/cuda_driver.cc:265] failed call to cuInit: UNKNOWN ERROR (303)\n",
      "2023-06-24 08:05:58.975076: I tensorflow/compiler/xla/stream_executor/cuda/cuda_diagnostics.cc:156] kernel driver does not appear to be running on this host (XPS): /proc/driver/nvidia/version does not exist\n",
      "2023-06-24 08:05:59.000797: I tensorflow/core/platform/cpu_feature_guard.cc:193] This TensorFlow binary is optimized with oneAPI Deep Neural Network Library (oneDNN) to use the following CPU instructions in performance-critical operations:  AVX2 FMA\n",
      "To enable them in other operations, rebuild TensorFlow with the appropriate compiler flags.\n"
     ]
    }
   ],
   "source": [
    "model = load_model(filepath='./model/bilstm_model.hdf5')"
   ]
  },
  {
   "cell_type": "code",
   "execution_count": 9,
   "metadata": {},
   "outputs": [
    {
     "name": "stdout",
     "output_type": "stream",
     "text": [
      "32/32 [==============================] - 32s 928ms/step\n"
     ]
    }
   ],
   "source": [
    "y_pred = model.predict(X_test)"
   ]
  },
  {
   "cell_type": "code",
   "execution_count": 10,
   "metadata": {},
   "outputs": [
    {
     "data": {
      "text/plain": [
       "(1000, 690)"
      ]
     },
     "execution_count": 10,
     "metadata": {},
     "output_type": "execute_result"
    }
   ],
   "source": [
    "y_pred.shape"
   ]
  },
  {
   "attachments": {},
   "cell_type": "markdown",
   "metadata": {},
   "source": [
    "##### Categorical cross-entropy is a loss function used for multi-class classification problems where each class is assigned a unique integer value from 0 to (num_classes – 1). It calculates the average difference between the actual and predicted probability distributions for all classes in the problem. In Keras, you can use categorical_crossentropy as a loss function for multi-class classification models where there are two or more output labels. The output label is assigned one-hot category encoding value in form of 0s and 1s. If the output label is present in integer form, it is converted into categorical encoding using keras.utils.to_categorical method12."
   ]
  },
  {
   "cell_type": "code",
   "execution_count": 23,
   "metadata": {},
   "outputs": [],
   "source": [
    "from keras.losses import CategoricalCrossentropy, BinaryCrossentropy"
   ]
  },
  {
   "cell_type": "code",
   "execution_count": 29,
   "metadata": {},
   "outputs": [],
   "source": [
    "import keras.backend as K"
   ]
  },
  {
   "cell_type": "code",
   "execution_count": 25,
   "metadata": {},
   "outputs": [],
   "source": [
    "loss = BinaryCrossentropy()"
   ]
  },
  {
   "cell_type": "code",
   "execution_count": 30,
   "metadata": {},
   "outputs": [
    {
     "data": {
      "text/plain": [
       "0.034632612"
      ]
     },
     "execution_count": 30,
     "metadata": {},
     "output_type": "execute_result"
    }
   ],
   "source": [
    "K.eval(loss(y_test, y_pred))"
   ]
  },
  {
   "cell_type": "code",
   "execution_count": 28,
   "metadata": {},
   "outputs": [
    {
     "data": {
      "text/plain": [
       "0.034632612"
      ]
     },
     "execution_count": 28,
     "metadata": {},
     "output_type": "execute_result"
    }
   ],
   "source": [
    "loss(y_test, y_pred).numpy()"
   ]
  },
  {
   "cell_type": "code",
   "execution_count": 37,
   "metadata": {},
   "outputs": [
    {
     "data": {
      "text/plain": [
       "0.02000072"
      ]
     },
     "execution_count": 37,
     "metadata": {},
     "output_type": "execute_result"
    }
   ],
   "source": [
    "K.eval(K.categorical_crossentropy(K.variable([0,1,0]), K.variable([0.1,9.9,0.1])))"
   ]
  },
  {
   "cell_type": "code",
   "execution_count": 38,
   "metadata": {},
   "outputs": [
    {
     "data": {
      "text/plain": [
       "array([  9,   4,   0,   1,   1,   0,   5,   0,   0,   1,   1,   2,   0,\n",
       "         9,   1,   1,   4,   0,   0,   2,   0,   1,   2,   1,   0,   0,\n",
       "         1,   0,   0,   2,   1,   0,   1,   1,   1,   1,  53,   6,   1,\n",
       "        71,  95,  23,   9,   3,   3,   4,   2,  38,   4,   1,   3,   9,\n",
       "        12,  10,  13,  11,   5,   2,   2,   1,   0,   0,   6,   0,   0,\n",
       "         3,   0,   0, 109,   1,   0,   5,   0,   1,   8,  14,   1,   1,\n",
       "         1,   2,   0,   1,   1,   4,  13,  15,  33,  21,   2,   4,  24,\n",
       "         2,   0,   2,   0,   5,  11,   0,   0,   2,   2,   0,   0,   3,\n",
       "         0,   1,   1,   0,   2,   4,   1,   2,   2,   0,  28,  10,   1,\n",
       "         1,   0,   1,   0,   0,   1,   0,   0,   1,   0,   1,   0,   1,\n",
       "         1,   1,   0,   1,   2,   1,   4,   4,   0,   1,   0,   0,   5,\n",
       "         0,   1,   1,   0,   6,   0,   1,   1,   0,   1,   1,   1,   0,\n",
       "         4,   0,   1,   1,   0,   1,   1,   1,   0,  10,   0,   0,   7,\n",
       "         5,   4,   0,   0,   1,   0,   0,   7,   6,   0,   2,   1,   0,\n",
       "         1,   1,   1,   1,   1,   1,   3,   3,   1,  16,  11,   0,   1,\n",
       "         4,   2,   0,  13,  90,  59,   2,   0,   1,   0,   1,   0,   1,\n",
       "         1,   2,   0,   1,   3,   0,   1,   1,   1,   1,  10,  24,   0,\n",
       "         0,  85,  36,   0,   1,   2,   0,   1,   2,   0,   1,   1,   0,\n",
       "         1,   1,   0,   2,   1,   0,   3,   1,   3, 128,   3,   1,  10,\n",
       "        21,   4,   1,   1,   2,  88,  30,   0,   0,  13,  16,   2,   1,\n",
       "        10,   4,   0,   1,   2,   2,   1,   1,   0,  10,   3,   1,   1,\n",
       "         0,   3,   0,  10,   2,   0,   2,   9,   9,   1,   1,   0,   0,\n",
       "         1,   1,   1,   0,   2,   1,   1,   0,  17,  73,   3,   0,   2,\n",
       "         0,   5,   0,   0,   1,   1,   2,   0,   1,   0,   1,   0,   1,\n",
       "         1,   3,   8,   2,   2,   1,   0,   3,   0,   0,   1,   2,  10,\n",
       "        11,  10,  33,  33,   1,   3,  23,  20,   3,   1,   1,   0,   1,\n",
       "         1,   1,   1,   1,   1,   0,   7,   1,   1,   2,   0,   1,   0,\n",
       "         0,   4,   0,   0,   1,   1,   0,   1,   1,   0,   4,   6,   6,\n",
       "         1,   0,  40,  28,   1,   2,   3,   2,   3,   4,   2,   2,   0,\n",
       "         0,  34,  43,   0,   1,   1,   0,   5,   2,   1,   0,   2,   3,\n",
       "         3,   3,   0,   1,   2,   2,   2,   1,   0,   0,   4,   1,   3,\n",
       "         4,   0,   1,   1,   1,   1,   0,   1,   1,   1,   0,   1,   5,\n",
       "         0,  10,   8,   0,   0,   3,  11,   9,   4,   4,   2,   7,   2,\n",
       "         4,  64, 145,  16,   0,   3,   1,   1,   0,   0,   2,   2,   0,\n",
       "         3,   3,   0,   0,   2,   2,   0,   0,   1,   0,   1,   1,   1,\n",
       "         1,   0,   0,   2,   0,   1,   1,   1,   1,   0,   1,   5,  22,\n",
       "         5,   0,   0,   5,   2,   1,   4,   2,   2,   2,   1,   2,   3,\n",
       "         7,   8,   3,   7,  22,  19,  10,   2,   0,   0,   1,   1,   0,\n",
       "         2,   3,   1,   2,   7,   2,   1,  28,  32,  14,   0,   1,   2,\n",
       "         2,   0,   1,   1,   1,   1,   1,   2,   1,   0,   1,   0,   0,\n",
       "         1,   0,   4,   6,   0,   1,   1,  13,   0,   2,   3,   1,   2,\n",
       "         2,   2,   2,   1,   1,   1,   1,   0,   2,   2,   4,   3,  14,\n",
       "         3,   2,   1,   2,   3,   2,   4,   8, 130, 145,  33,   2,   1,\n",
       "         0,   0,   3,   7,   8,   6,   8,   5,   3,   1,   2,   4,   6,\n",
       "         6,   7,  10,   8,   6,   2,   0,   1,   1,   1,   1,   1,   1,\n",
       "         0,   0,   5,   0,   8,   0,   1,   0,   2,  39,   2,   0,   0,\n",
       "         5,   0,   0,   4,   0,   1,   7,   0,   7,  17,   0,   0,   8,\n",
       "         8,   0,   0,   1,   0,   4,   4,   1,   0,   0,   1,   1,   0,\n",
       "         0,   2,   2,   1,   0,   3,   0,   1,   1,   0,   0,   1,   1,\n",
       "         2,   2,   2,   2,   1,   1,   0,   1,   2,   2,   6,   9,   3,\n",
       "         0,   1,   3,   0,   0,  26,   4,   0,   1,   1,   1,   2,   1,\n",
       "         1,   0,   1,  13,   1,   1,   0,   0,   1,   0,   1,   1,   0,\n",
       "         1,   1,   1,   0,   4,   3,   1,   0,   1,   2,  11,   5,   1,\n",
       "         7,   0,   0,   8,   1,   0,   1,   0,   0,   1,   1,   1,   1,\n",
       "         2,   2,   1,   1,   1,   2,   2,   1,   0,   3,   0,   1,   0,\n",
       "         1,   1,   1,   1,   1,  76,  53,   0,   0,   3,   1,   0,   2,\n",
       "         1,   0,   1,   1,   1,   0,   8,   2,   0,   3,   2,   4,  10,\n",
       "         6,   0,   2,   2,   2,   2,   0,   5,   2,   0,   5,   5,   2,\n",
       "         2,   0,   1,   0,   1,   0,   1,   0,   0,   5,   1,   0,   1,\n",
       "         2,   0,  12,  10,   0,   0,   1,   0,   0,   1,   0,   1,   0,\n",
       "         0,   1,   3,   1,   1,   1,   1,   0,   2,  15,   9,   0,   3,\n",
       "         1,   1,   4,   0,   1,   1,   2,   1,   3,  16,   5,  22,   0,\n",
       "         1,   0,   0,   2,   3,   1,   0,   0,   1,  13,   1,   1,   4,\n",
       "         2,   1,   3,   4,   2,   4,   3,   2,   0,   1,   5,   1,   1,\n",
       "         4,   0,   1,   1,   0,   1,   1,   4,   3,   0,   1,   1,   0,\n",
       "         1,   1,   0,   4,   2,   0,   1,   0,   4,   4,   1,  16,   0,\n",
       "         2,   3,   1,   0,   1,   1,   1,   2,   0,   1,   1,   0,   0,\n",
       "         6,   0,   3,   5,   4,   1,   0,   1,   0,   1,   2,   1,   1,\n",
       "         0,   1,   0,   1,   1,   1,   0,   4,   1,   0,   1,   0,   1,\n",
       "         2,   1,   1,   1,   1,   0,   1,   1,   1,   1,   0,   9,  13,\n",
       "         0,   0,   1,   1,   1,   1,   2,   2,   1,   0,   0,   3,   2,\n",
       "         0,  49,   2,   0,  14,   2,   2,   2,   0,   0,   1,   0,   1,\n",
       "         1,   0,   1,   1,   0,   1,   0,   1,   0,   0,   3,   1,   0,\n",
       "         1,   0,   0,  20,   2,   0,   0,   0,   1,   1,   1,   0,   1,\n",
       "         1,   1,   1,   0,   6,   9,   1,   0,   6,  10,   1,   1,   2,\n",
       "         1,   0,   1,   0,   1,   0,   4,   9,   0,   0,   1,   1,   1,\n",
       "         0,   0,   1,   1,   1,   0,   1,   4,   0,   0,   1,   1],\n",
       "      dtype=uint64)"
      ]
     },
     "execution_count": 38,
     "metadata": {},
     "output_type": "execute_result"
    }
   ],
   "source": [
    "np.sum(y_test, axis=1)"
   ]
  },
  {
   "cell_type": "code",
   "execution_count": 39,
   "metadata": {},
   "outputs": [
    {
     "data": {
      "text/plain": [
       "array([ 2.2541294 ,  1.530917  ,  5.864814  ,  3.4864798 ,  9.644655  ,\n",
       "       13.806238  ,  2.6360798 ,  2.2784355 ,  1.1894124 ,  1.299067  ,\n",
       "        2.309643  ,  1.2648275 ,  0.768093  ,  1.0690353 ,  1.0696392 ,\n",
       "        1.9531524 ,  1.6745923 ,  1.140563  ,  0.47338217,  0.83602476,\n",
       "        1.7120717 ,  0.70675164,  0.7778626 ,  1.024034  ,  1.2607106 ,\n",
       "        1.1685729 ,  1.6846201 ,  2.5114567 ,  2.0234294 ,  1.1504809 ,\n",
       "        1.0601277 ,  1.4520607 ,  1.5601144 ,  2.6782625 ,  2.4167233 ,\n",
       "        3.2459264 ,  5.5691004 ,  2.5881195 ,  8.725916  , 13.206436  ,\n",
       "        8.804405  ,  9.201976  ,  8.532513  ,  3.8604012 ,  2.1122918 ,\n",
       "        1.7689931 ,  1.2825592 ,  1.252748  ,  1.246206  ,  0.90459406,\n",
       "        0.9749863 ,  1.158431  ,  1.180692  ,  1.3256476 ,  1.3185412 ,\n",
       "        1.0225397 ,  0.99851245,  1.0564274 ,  0.9107816 ,  1.1994138 ,\n",
       "        0.7988914 ,  2.948901  ,  2.079361  ,  1.1335783 ,  1.2523141 ,\n",
       "        1.8255327 ,  1.8452163 ,  2.2261841 ,  3.8981524 , 11.023104  ,\n",
       "        1.1362946 ,  0.99477404,  1.0272976 ,  1.0073646 ,  1.2724643 ,\n",
       "        1.8314414 ,  2.2152922 ,  3.1313765 ,  3.4538736 ,  2.474164  ,\n",
       "        1.5724565 ,  3.2876866 ,  5.2469387 ,  3.9810703 ,  2.8318815 ,\n",
       "        2.937212  ,  3.244676  ,  2.7398248 ,  1.5611608 ,  2.8893595 ,\n",
       "        3.1265311 ,  2.0808342 ,  2.011036  ,  1.3105881 ,  1.1949165 ,\n",
       "        1.077243  ,  1.676962  ,  2.0973952 ,  3.107784  ,  4.250513  ,\n",
       "        4.2344303 ,  3.774057  ,  1.5282453 ,  1.5594095 ,  2.2073479 ,\n",
       "        3.9498987 ,  2.8311849 ,  2.3835576 ,  1.9957244 ,  0.86822855,\n",
       "        1.3509446 ,  0.9451759 ,  2.0589402 ,  1.5949435 ,  1.1766376 ,\n",
       "        2.2594059 ,  2.8900142 ,  2.658632  ,  1.236463  ,  1.2787764 ,\n",
       "        1.111171  ,  1.7037404 ,  2.3717897 ,  3.717284  ,  1.895425  ,\n",
       "        2.0650961 ,  3.0831695 ,  2.3587885 ,  1.5207391 ,  1.3197272 ,\n",
       "        1.6801555 ,  2.2470503 ,  2.4076416 ,  3.4509697 ,  2.1865928 ,\n",
       "        2.9122648 ,  1.4374084 ,  1.0188707 ,  1.2477224 ,  2.0973525 ,\n",
       "        1.1863208 ,  1.1463491 ,  1.3751026 ,  1.8329961 ,  2.009712  ,\n",
       "        3.7076726 ,  1.680649  ,  1.7536767 ,  2.1010697 ,  2.4885437 ,\n",
       "        3.4323092 ,  3.7892456 ,  2.0303712 ,  2.1713123 ,  2.5128996 ,\n",
       "        4.08303   ,  3.490992  ,  2.5825336 ,  1.1533124 ,  1.7630284 ,\n",
       "        2.2478118 ,  2.362105  ,  3.081675  ,  2.3302214 ,  2.2009993 ,\n",
       "        1.203571  ,  1.4631808 ,  2.286777  ,  1.5319517 ,  1.8184078 ,\n",
       "        2.2190447 ,  2.0172122 ,  4.0201964 ,  4.2143917 ,  2.9324884 ,\n",
       "        1.4938598 ,  1.1411464 ,  1.445262  ,  1.3850844 ,  2.2231574 ,\n",
       "        2.9276342 ,  2.1334734 ,  2.083072  ,  1.4880271 ,  1.7994709 ,\n",
       "        2.7844067 ,  0.8662334 ,  0.7773663 ,  1.0199244 ,  1.2874116 ,\n",
       "        3.19896   ,  2.6094017 ,  2.193302  ,  1.4962442 ,  2.238792  ,\n",
       "        2.8925629 ,  1.7756064 ,  3.8171647 ,  9.597885  , 22.909685  ,\n",
       "       18.768295  , 14.70347   ,  1.2594179 ,  1.4176335 ,  0.9115488 ,\n",
       "        1.5831699 ,  2.2506268 ,  1.661648  ,  1.1682274 ,  1.0121437 ,\n",
       "        1.0332971 ,  0.9499987 ,  1.0150671 ,  1.679993  ,  1.7059913 ,\n",
       "        1.7593789 ,  1.326048  ,  1.27655   ,  0.99449444,  1.2577097 ,\n",
       "        1.6652163 ,  1.111483  ,  1.8856258 ,  3.4163687 ,  2.640297  ,\n",
       "        1.0934422 ,  1.2535571 ,  0.7786528 ,  1.0349228 ,  1.0390584 ,\n",
       "        1.0073155 ,  1.922831  ,  2.3903372 ,  1.3793249 ,  1.5269533 ,\n",
       "        1.6033155 ,  1.3143508 ,  1.111757  ,  3.048108  ,  3.0645902 ,\n",
       "        1.0226156 ,  0.91301554,  0.98036885,  1.5820558 ,  0.7579494 ,\n",
       "        1.7684067 ,  1.8259318 ,  2.8342538 ,  2.5170126 ,  2.5780208 ,\n",
       "        3.456949  ,  1.7956715 ,  3.0133266 ,  2.655106  ,  3.3091822 ,\n",
       "        1.8744675 ,  3.2902253 ,  1.3587588 ,  1.7516236 ,  0.87568814,\n",
       "        1.7897933 ,  1.2601595 ,  1.0289314 ,  1.0386956 ,  1.1649446 ,\n",
       "        1.5658857 ,  1.3986068 ,  1.2410332 ,  2.934385  ,  2.0094821 ,\n",
       "        1.7491065 ,  2.3078277 ,  2.8777652 ,  3.0416462 ,  1.5926888 ,\n",
       "        1.0971901 ,  2.997566  ,  4.335805  ,  2.1050777 ,  2.2100945 ,\n",
       "        1.3913375 ,  1.3302861 ,  1.1182487 ,  1.1015685 ,  0.9924544 ,\n",
       "        1.1536043 ,  0.9464956 ,  1.0816668 ,  1.0402027 ,  0.89112794,\n",
       "        1.3462903 ,  1.193785  ,  1.6404328 ,  1.1497382 ,  0.9496628 ,\n",
       "        1.4572798 ,  2.5823429 ,  2.3589945 ,  1.7791585 ,  1.5003058 ,\n",
       "        0.98417354,  1.2334594 ,  1.2469152 ,  1.6314439 ,  2.3254359 ,\n",
       "        2.0840402 ,  2.351748  ,  1.5183115 ,  1.3227257 ,  2.0944607 ,\n",
       "        3.892232  ,  1.8854167 ,  1.4285998 ,  0.74544096,  1.2614783 ,\n",
       "        2.736758  ,  2.6390667 ,  1.8034    ,  1.4637208 ,  2.3404164 ,\n",
       "        1.3784567 ,  2.5446444 ,  2.015615  ,  1.3447607 ,  1.7094953 ,\n",
       "        7.158225  , 11.216328  , 20.692373  , 19.174927  , 13.180916  ,\n",
       "       14.824442  , 16.591894  , 18.827782  , 15.27817   ,  4.9221625 ,\n",
       "        4.2577877 ,  3.2139742 ,  0.65817016,  0.8221961 ,  0.70710754,\n",
       "        0.7598383 ,  0.50682247,  0.92073596,  1.6464343 ,  1.6111494 ,\n",
       "        1.5925535 ,  3.5422134 ,  3.9576755 ,  4.214953  ,  1.6928082 ,\n",
       "        1.7773759 ,  1.4542642 ,  1.6887486 ,  1.266405  ,  1.3472712 ,\n",
       "        2.472697  ,  2.267624  ,  2.5006406 ,  1.7299503 ,  2.4114504 ,\n",
       "        3.844225  ,  3.4953144 ,  2.620039  ,  3.5087137 ,  3.8366065 ,\n",
       "        1.764993  ,  2.2387989 ,  1.7044537 ,  2.7498624 ,  1.7618699 ,\n",
       "        3.44907   ,  4.918055  ,  4.787659  ,  5.396492  ,  5.3832936 ,\n",
       "        3.8165908 ,  3.1046615 ,  2.3104439 ,  3.6052976 ,  3.6987157 ,\n",
       "        3.150124  ,  3.2513134 ,  2.5088172 ,  1.6948493 ,  1.35991   ,\n",
       "        1.4872836 ,  6.122528  ,  3.155809  ,  1.500158  ,  1.5456308 ,\n",
       "        2.3983078 ,  1.8181026 ,  1.4332547 ,  0.76619035,  0.7511821 ,\n",
       "        0.8859328 ,  2.0911202 ,  1.7762479 ,  1.1406386 ,  2.164412  ,\n",
       "        1.6151614 ,  1.2357934 ,  1.9864206 ,  1.4512923 ,  2.2405944 ,\n",
       "        2.0508845 ,  1.8482366 ,  1.7420367 ,  2.004694  ,  0.9459105 ,\n",
       "        0.8815891 ,  0.88590133,  0.6583797 ,  0.8142026 ,  1.5163267 ,\n",
       "        1.242582  ,  5.7605705 ,  4.4293346 ,  3.5012703 ,  3.4251835 ,\n",
       "        4.4179897 ,  2.6853747 ,  2.7045538 ,  3.3768387 ,  3.5510774 ,\n",
       "        3.1935437 ,  3.3443515 ,  3.4245193 ,  3.137286  ,  3.5835485 ,\n",
       "        4.0076275 ,  4.3906755 ,  4.433171  ,  3.5560198 ,  1.718748  ,\n",
       "        2.7330189 ,  4.8823876 ,  4.4393053 ,  3.8565416 ,  2.9696445 ,\n",
       "        3.1165245 ,  3.4015512 ,  2.140491  ,  3.585941  ,  3.644362  ,\n",
       "        0.92290616,  1.8552067 ,  2.5159261 ,  3.4376552 ,  3.524488  ,\n",
       "        2.2521143 ,  1.6014671 ,  1.6840644 ,  1.7765644 ,  2.7025309 ,\n",
       "        1.9996991 ,  2.0700362 ,  2.5657554 ,  2.7137475 ,  3.9352784 ,\n",
       "        2.0414016 ,  1.1118362 ,  1.2845068 ,  1.5935972 ,  4.7569513 ,\n",
       "        2.3659246 ,  3.3635116 ,  1.9582545 ,  0.9933827 ,  0.959957  ,\n",
       "        1.1294924 ,  1.3506113 ,  1.9087163 ,  2.8819578 ,  2.3637667 ,\n",
       "        1.7323201 ,  1.8298588 ,  2.2105057 ,  1.989357  ,  3.0044742 ,\n",
       "        2.2846184 ,  2.3449137 ,  4.5784874 , 10.733938  , 18.408255  ,\n",
       "       15.357387  , 18.018341  ,  8.437426  ,  2.6691232 ,  1.1368289 ,\n",
       "        3.194315  ,  2.7585726 ,  1.7501686 ,  1.2983866 ,  1.3122168 ,\n",
       "        1.3011081 ,  0.7318096 ,  1.4711175 ,  3.1093955 ,  4.4548016 ,\n",
       "        2.3625827 ,  1.447547  ,  1.9143622 ,  2.3852386 ,  3.75622   ,\n",
       "        3.2628417 ,  2.7487683 ,  3.1138344 ,  3.0439358 ,  3.010505  ,\n",
       "        3.4807243 ,  4.2315836 ,  2.9892106 ,  3.0054522 ,  6.056189  ,\n",
       "        8.820196  , 12.380811  , 11.575452  ,  3.8241186 ,  2.5043082 ,\n",
       "        7.9706583 ,  7.8178725 ,  1.3468678 ,  1.7792543 ,  3.082265  ,\n",
       "        2.1766326 ,  2.9652495 ,  3.9728765 ,  4.2687397 ,  0.7235627 ,\n",
       "        2.064959  ,  1.8408498 ,  0.90360534,  1.1724513 ,  1.717405  ,\n",
       "        2.899611  ,  1.4099226 ,  4.0649776 ,  3.7893832 ,  4.5872507 ,\n",
       "        1.6505563 ,  1.3472346 ,  1.0244542 ,  0.9313095 ,  1.252809  ,\n",
       "        2.0181396 ,  2.439767  ,  2.339786  ,  3.8470113 ,  1.9668756 ,\n",
       "        1.4221513 ,  1.0314486 ,  1.8813653 ,  6.1192884 ,  9.590729  ,\n",
       "       11.544918  , 13.334883  , 10.223772  ,  9.615803  ,  8.021524  ,\n",
       "        1.2122233 ,  1.1523616 ,  2.9553628 ,  7.414708  , 17.866207  ,\n",
       "       28.398087  , 30.01519   , 30.851547  , 26.56418   , 24.978992  ,\n",
       "       11.848114  , 12.348967  , 15.126625  , 11.109503  , 12.247465  ,\n",
       "        4.2432065 ,  1.7810458 ,  2.7776654 ,  2.2397408 ,  1.256795  ,\n",
       "        1.6975219 ,  2.419352  ,  3.028744  ,  5.9487033 ,  2.6819463 ,\n",
       "        1.1111805 ,  3.168157  ,  2.9051538 ,  4.4304705 ,  2.0060844 ,\n",
       "        3.8667438 ,  1.2056112 ,  0.6792867 ,  1.4750828 ,  2.8255687 ,\n",
       "        5.586358  ,  4.8370028 ,  1.8105375 ,  1.6353211 ,  1.7448173 ,\n",
       "        1.0697834 ,  1.4057605 ,  1.3997061 ,  2.8497553 ,  3.1243825 ,\n",
       "        1.3460455 ,  1.6738642 ,  1.5769243 ,  1.8076992 ,  0.964573  ,\n",
       "        1.8948088 ,  1.5320406 ,  1.2759352 ,  1.0713861 ,  1.4518038 ,\n",
       "        1.3852806 ,  2.6893525 ,  1.9773238 ,  1.8983053 ,  1.0545286 ,\n",
       "        0.61696285,  0.71877   ,  1.0138444 ,  1.0072144 ,  1.1402285 ,\n",
       "        1.5614635 ,  2.0461981 ,  2.269258  ,  1.6810671 ,  1.9051373 ,\n",
       "        2.1122665 ,  2.482724  ,  1.0029626 ,  2.3929155 ,  0.83459264,\n",
       "        0.7313512 ,  1.280002  ,  0.80226934,  0.7898341 ,  0.6599493 ,\n",
       "        0.9304644 ,  0.8937604 ,  1.5274842 ,  2.0429535 ,  2.6263452 ,\n",
       "        3.3238149 ,  3.133182  ,  2.7849178 ,  2.1501455 ,  1.51386   ,\n",
       "        1.0445212 ,  1.308121  ,  0.69623584,  0.7245703 ,  1.2438555 ,\n",
       "        1.9574845 ,  1.6772949 ,  2.6454544 ,  3.086565  ,  2.6581464 ,\n",
       "        1.6448134 ,  2.310717  ,  1.9575797 ,  1.1258976 ,  1.4099598 ,\n",
       "        3.0038233 ,  2.1993606 ,  1.418531  ,  1.4824945 ,  0.96556085,\n",
       "        1.1674594 ,  1.6576046 ,  1.1598155 ,  1.6070824 ,  2.6329281 ,\n",
       "        0.6294628 ,  0.6443646 ,  0.6086012 ,  0.7757379 ,  0.7847084 ,\n",
       "        3.7393818 ,  4.05049   ,  3.795642  ,  2.2313237 ,  3.4219005 ,\n",
       "        4.412737  ,  2.7393498 ,  4.9629717 ,  2.7012365 ,  4.4323177 ,\n",
       "        3.4492705 ,  5.1931167 ,  3.8862572 ,  1.446118  ,  9.098631  ,\n",
       "        5.7985907 ,  3.117079  ,  0.9159764 ,  1.5973587 ,  3.5700629 ,\n",
       "        4.180091  ,  1.5432853 ,  1.6495377 ,  2.0130734 ,  4.479789  ,\n",
       "        5.1641474 ,  1.2191246 ,  1.6717672 ,  2.180081  ,  2.2779982 ,\n",
       "        6.929722  ,  6.920258  ,  0.8302385 ,  0.6935688 ,  1.4005089 ,\n",
       "        1.3438761 ,  1.4506862 ,  1.0859829 ,  1.1486888 ,  1.8238318 ,\n",
       "        4.1348505 ,  4.841722  ,  5.717397  ,  8.735989  ,  7.019474  ,\n",
       "        6.913337  ,  7.9722977 ,  8.403101  ,  6.059948  ,  5.7295604 ,\n",
       "        3.6289418 ,  3.1652606 ,  1.3827134 ,  0.7576351 ,  1.3283105 ,\n",
       "        1.6285154 ,  3.520935  ,  4.4206023 ,  5.500227  ,  6.4492326 ,\n",
       "        7.4906616 ,  5.2010293 ,  0.7801564 ,  1.0735114 ,  1.2708235 ,\n",
       "        0.43528083,  0.7126268 ,  1.5171938 ,  2.3766947 ,  2.4997752 ,\n",
       "        2.0633194 ,  0.7208458 ,  0.9803251 ,  1.5362635 ,  1.6361396 ,\n",
       "        1.8863324 ,  1.93682   ,  2.9992013 ,  1.0414522 ,  1.7874012 ,\n",
       "        2.4479246 ,  1.7886064 ,  2.9237633 ,  3.4565961 ,  1.5239594 ,\n",
       "        1.587704  ,  0.68025696,  0.69362336,  1.2296159 ,  2.056333  ,\n",
       "        3.5407858 ,  5.861555  ,  0.8034092 ,  0.87626994,  0.99769574,\n",
       "        0.8640051 ,  1.6212326 ,  2.014088  ,  2.5102816 ,  1.8405516 ,\n",
       "        4.479768  ,  3.2492902 ,  2.5566869 ,  2.2351208 ,  6.8104105 ,\n",
       "        3.5857549 ,  3.5461807 ,  3.4449482 ,  2.1553874 ,  1.5995338 ,\n",
       "        1.3531628 ,  1.3829443 ,  4.4629307 ,  4.738131  ,  4.089501  ,\n",
       "        2.2140145 ,  5.0347843 ,  5.2634025 ,  5.648672  ,  6.1480923 ,\n",
       "        4.7291527 ,  4.083603  ,  5.243513  ,  1.9340994 ,  2.3478549 ,\n",
       "        1.1902573 ,  1.2648818 ,  1.4916434 ,  1.9687567 ,  1.8996222 ,\n",
       "        1.0135643 ,  1.1149344 ,  0.9985039 ,  1.5535327 ,  1.0596539 ,\n",
       "        1.6389778 ,  1.6106285 ,  3.4017706 ,  3.8090036 ,  4.162399  ,\n",
       "        2.8245635 ,  1.5854696 ,  3.05758   ,  3.5201588 ,  3.2662635 ,\n",
       "        2.9426072 ,  4.392757  ,  0.7108569 ,  0.765923  ,  1.148138  ,\n",
       "        2.1610582 ,  4.4709473 ,  3.1924675 ,  4.0693703 , 16.80811   ,\n",
       "        2.992795  ,  2.2948842 ,  2.1513233 ,  2.0685458 ,  3.1626048 ,\n",
       "        1.5704293 ,  1.4327898 ,  1.9977237 ,  1.5712104 ,  1.2440712 ,\n",
       "        1.1531243 ,  1.7671613 ,  1.0169728 ,  1.6835963 ,  3.0218217 ,\n",
       "        2.0348847 ,  1.2828122 ,  0.87183774,  2.1759512 ,  1.2530315 ,\n",
       "        2.769104  ,  3.836032  ,  3.803388  ,  2.460012  ,  2.347241  ,\n",
       "        3.0641763 ,  3.3265374 ,  3.178028  ,  2.918551  ,  1.7941364 ,\n",
       "        2.9294305 ,  1.9631857 ,  1.3532393 ,  1.6207381 ,  1.5510035 ,\n",
       "        4.8342915 ,  5.354472  ,  2.5138543 ,  6.0791864 ,  6.859975  ,\n",
       "        5.065232  ,  3.7969072 ,  3.4977674 ,  2.2006297 ,  1.5526667 ,\n",
       "        0.94223064,  0.9829484 ,  4.0255246 ,  3.7843566 ,  0.68500936,\n",
       "        0.72185254,  1.701056  ,  1.1079845 ,  1.8180822 ,  1.8754215 ,\n",
       "        1.9897017 ,  2.0305994 ,  1.8573439 ,  1.3732368 ,  2.0326982 ,\n",
       "        1.6362395 ,  7.012556  ,  7.636109  ,  3.3305912 ,  1.3324332 ,\n",
       "        2.7817898 ,  3.533386  ,  2.4957685 ,  1.1292968 ,  1.8272641 ,\n",
       "        2.021499  ,  1.8949256 ,  1.4544027 ,  1.77329   ,  2.3962116 ,\n",
       "        2.866984  ,  3.1406562 ,  3.8510299 ,  3.7671363 ,  1.1493783 ,\n",
       "        1.0083785 ,  1.7109116 ,  1.6383761 ,  4.0139427 ,  3.044712  ,\n",
       "        1.4833337 ,  1.8311766 ,  1.7410343 ,  2.2754683 ,  3.2424178 ,\n",
       "        2.66403   ,  3.1253576 ,  3.7313585 ,  4.2350183 ,  4.776635  ,\n",
       "        4.994362  ,  4.664771  ,  1.5740638 ,  1.966495  ,  1.4959605 ,\n",
       "        2.3773217 ,  1.7087018 ,  4.2967596 ,  2.1757321 ,  2.5642958 ,\n",
       "        1.8884417 ,  2.0801902 ,  1.8095584 ,  2.8058574 ,  2.1755807 ,\n",
       "        2.1577935 ,  3.2652667 ,  5.755698  ,  2.3057365 ,  4.235878  ,\n",
       "        6.255025  ,  1.546168  ,  2.8997855 ,  3.1347027 ,  4.726142  ,\n",
       "        4.7407975 ,  1.1968681 ,  1.4448638 ,  1.2725624 ,  1.2528607 ,\n",
       "        0.85317093,  1.2362344 ,  1.8170909 ,  2.3829465 ,  1.900225  ,\n",
       "        1.597497  ,  3.0241075 ,  9.303038  ,  4.8366785 ,  2.0754619 ,\n",
       "        2.3143973 ,  1.6812642 ,  1.6622033 ,  2.6633332 ,  3.7942257 ,\n",
       "        4.058362  ,  2.1259413 ,  3.0077295 ,  3.4359498 ,  3.0710359 ,\n",
       "        2.9275818 ,  1.954729  ,  2.8378987 ,  2.6595507 ,  1.3459406 ,\n",
       "        1.4163302 ,  2.2224598 ,  1.9689662 ,  0.7824576 ,  0.75497663,\n",
       "        1.2460289 ,  1.9159036 ,  2.008398  ,  2.5137663 ,  1.7306468 ,\n",
       "        1.5687709 ,  1.714818  ,  2.5089388 ,  2.4197087 ,  2.271717  ],\n",
       "      dtype=float32)"
      ]
     },
     "execution_count": 39,
     "metadata": {},
     "output_type": "execute_result"
    }
   ],
   "source": [
    "np.sum(y_pred, axis=1)"
   ]
  }
 ],
 "metadata": {
  "kernelspec": {
   "display_name": "Python 3",
   "language": "python",
   "name": "python3"
  },
  "language_info": {
   "codemirror_mode": {
    "name": "ipython",
    "version": 3
   },
   "file_extension": ".py",
   "mimetype": "text/x-python",
   "name": "python",
   "nbconvert_exporter": "python",
   "pygments_lexer": "ipython3",
   "version": "3.10.6"
  },
  "orig_nbformat": 4
 },
 "nbformat": 4,
 "nbformat_minor": 2
}
